{
 "cells": [
  {
   "cell_type": "markdown",
   "id": "02a77eb6",
   "metadata": {},
   "source": [
    "# EARIN\n",
    "## Lab 6: Reinforcement learning"
   ]
  },
  {
   "cell_type": "markdown",
   "id": "91a3d186",
   "metadata": {},
   "source": [
    "Czmut Julia, 300168<br>Ploch Laura, 300176"
   ]
  },
  {
   "cell_type": "markdown",
   "id": "79b176e4",
   "metadata": {},
   "source": [
    "### Initialization"
   ]
  },
  {
   "cell_type": "code",
   "execution_count": null,
   "id": "684852e8",
   "metadata": {},
   "outputs": [],
   "source": [
    "import gym\n",
    "from stable_baselines3 import PPO\n",
    "from stable_baselines3.common.vec_env import VecFrameStack\n",
    "from stable_baselines3.common.evaluation import evaluate_policy\n",
    "\n",
    "env = gym.make('CarRacing-v1')"
   ]
  },
  {
   "cell_type": "markdown",
   "id": "ca589173",
   "metadata": {},
   "source": [
    "________"
   ]
  },
  {
   "cell_type": "markdown",
   "id": "f72a17c5",
   "metadata": {},
   "source": [
    "### Training CNN model\n",
    "learning rate = 0.0001<br>\n",
    "number of epochs = 20<br>\n",
    "total timesteps = 100 000"
   ]
  },
  {
   "cell_type": "code",
   "execution_count": null,
   "id": "0d6677e0",
   "metadata": {
    "scrolled": false
   },
   "outputs": [],
   "source": [
    "env.reset(seed=2022)\n",
    "model_cnn = PPO('CnnPolicy', env, verbose=1, learning_rate=0.0001, n_steps=2048, n_epochs=20)\n",
    "model_cnn.learn(total_timesteps=100000)\n",
    "print(\"Saving to file\")\n",
    "model_cnn.save('ModelCnn')"
   ]
  },
  {
   "cell_type": "markdown",
   "id": "39b85070",
   "metadata": {},
   "source": [
    "Calculating **mean reward** and **std reward** for CNN model"
   ]
  },
  {
   "cell_type": "code",
   "execution_count": null,
   "id": "bbe4cb23",
   "metadata": {},
   "outputs": [],
   "source": [
    "mean_reward_cnn, std_reward_cnn = evaluate_policy(model_cnn, model_cnn.get_env(), n_eval_episodes=3)\n",
    "print(\"CNN policy\")\n",
    "print(\"Mean reward = \", mean_reward_cnn)\n",
    "print(\"Std reward = \", std_reward_cnn)"
   ]
  },
  {
   "cell_type": "markdown",
   "id": "a5e51b08",
   "metadata": {},
   "source": [
    "__________________________"
   ]
  },
  {
   "cell_type": "markdown",
   "id": "8189b426",
   "metadata": {},
   "source": [
    "### Training MLP model\n",
    "learning rate = 0.0001<br>\n",
    "number of epochs = 10<br>\n",
    "total timesteps = 100 000"
   ]
  },
  {
   "cell_type": "code",
   "execution_count": null,
   "id": "a065657b",
   "metadata": {
    "scrolled": true
   },
   "outputs": [],
   "source": [
    "env.reset(seed=2022)\n",
    "model_mlp_10 = PPO('MlpPolicy', env, verbose=1, learning_rate=0.0001, n_steps=2048, n_epochs=10)\n",
    "model_mlp_10.learn(total_timesteps=100000)\n",
    "print(\"Saving to file\")\n",
    "model_mlp.save('ModelMlp_10')"
   ]
  },
  {
   "cell_type": "markdown",
   "id": "f75aa3bd",
   "metadata": {},
   "source": [
    "learning rate = 0.0001<br>\n",
    "number of epochs = 20<br>\n",
    "total timesteps = 100 000"
   ]
  },
  {
   "cell_type": "code",
   "execution_count": null,
   "id": "486242be",
   "metadata": {},
   "outputs": [],
   "source": [
    "env.reset(seed=2022)\n",
    "model_mlp_20 = PPO('MlpPolicy', env, verbose=1, learning_rate=0.0001, n_steps=2048, n_epochs=20)\n",
    "model_mlp_20.learn(total_timesteps=100000)\n",
    "print(\"Saving to file\")\n",
    "model_mlp.save('ModelMlp_20')"
   ]
  },
  {
   "cell_type": "markdown",
   "id": "275d51ce",
   "metadata": {},
   "source": [
    "Calculating **mean reward** and **std reward** for both MLP models"
   ]
  },
  {
   "cell_type": "code",
   "execution_count": null,
   "id": "6c7a2495",
   "metadata": {},
   "outputs": [],
   "source": [
    "mean_reward_mlp, std_reward_mlp = evaluate_policy(model_mlp_10, model_mlp_10.get_env(), n_eval_episodes=3)\n",
    "print(\"MLP policy\")\n",
    "print(\"Mean reward = \", mean_reward_mlp)\n",
    "print(\"Std reward = \", std_reward_mlp)"
   ]
  },
  {
   "cell_type": "code",
   "execution_count": null,
   "id": "ac158d51",
   "metadata": {
    "scrolled": true
   },
   "outputs": [],
   "source": [
    "mean_reward_mlp_20, std_reward_mlp_20 = evaluate_policy(model_mlp_20, model_mlp_20.get_env(), n_eval_episodes=3)\n",
    "print(\"MLP policy\")\n",
    "print(\"Mean reward = \", mean_reward_mlp_20)\n",
    "print(\"Std reward = \", std_reward_mlp_20)"
   ]
  },
  {
   "cell_type": "markdown",
   "id": "b9b49148",
   "metadata": {},
   "source": [
    "____________"
   ]
  },
  {
   "cell_type": "markdown",
   "id": "734fa057",
   "metadata": {},
   "source": [
    "### Rendering CNN model "
   ]
  },
  {
   "cell_type": "code",
   "execution_count": null,
   "id": "697252ad",
   "metadata": {},
   "outputs": [],
   "source": [
    "model_cnn = PPO.load('ModelCnn')\n",
    "\n",
    "episodes = 3\n",
    "for episode in range(1, episodes + 1):\n",
    "    obs = env.reset()\n",
    "    done = False\n",
    "    score = 0\n",
    "\n",
    "    while not done:\n",
    "        env.render()\n",
    "        action, _states = model_cnn.predict(obs)\n",
    "        obs, reward, done, info = env.step(action)\n",
    "        score += reward\n",
    "    print(\"Episode: \" + str(episode) + \"\\tScore: \" + str(score))\n",
    "\n",
    "env.close()"
   ]
  },
  {
   "cell_type": "markdown",
   "id": "7692f997",
   "metadata": {},
   "source": [
    "### Rendering MLP model "
   ]
  },
  {
   "cell_type": "code",
   "execution_count": null,
   "id": "716408d2",
   "metadata": {},
   "outputs": [],
   "source": [
    "model_mlp = PPO.load('ModelMlp')\n",
    "\n",
    "episodes = 3\n",
    "for episode in range(1, episodes + 1):\n",
    "    obs = env.reset()\n",
    "    done = False\n",
    "    score = 0\n",
    "\n",
    "    while not done:\n",
    "        env.render()\n",
    "        action, _states = model_mlp.predict(obs)\n",
    "        obs, reward, done, info = env.step(action)\n",
    "        score += reward\n",
    "    print(\"Episode: \" + str(episode) + \"\\tScore: \" + str(score))\n",
    "\n",
    "env.close()"
   ]
  }
 ],
 "metadata": {
  "kernelspec": {
   "display_name": "Python 3 (ipykernel)",
   "language": "python",
   "name": "python3"
  },
  "language_info": {
   "codemirror_mode": {
    "name": "ipython",
    "version": 3
   },
   "file_extension": ".py",
   "mimetype": "text/x-python",
   "name": "python",
   "nbconvert_exporter": "python",
   "pygments_lexer": "ipython3",
   "version": "3.8.8"
  }
 },
 "nbformat": 4,
 "nbformat_minor": 5
}
