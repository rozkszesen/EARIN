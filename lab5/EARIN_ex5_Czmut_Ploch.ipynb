{
  "cells": [
    {
      "cell_type": "markdown",
      "metadata": {
        "id": "PnDaAezyo-Lv"
      },
      "source": [
        "\n",
        "# **EARIN exercise 5: Artificial Neural Networks**\n",
        "\n",
        "Implementation of an N-layer perceptron for Iris classification\n",
        "\n",
        "Authors: *Julia Czmut*, *Laura Ploch*"
      ]
    },
    {
      "cell_type": "markdown",
      "metadata": {
        "id": "mInIuD3_SPuZ"
      },
      "source": [
        "### Overview of the task\n",
        "\n",
        "The goal of this task is to implement an N-layer perceptron and verify how number of layers affects final metrics of Iris classification.\n",
        "\n",
        "The neural networks in our task are implemented with the help of Pytorch library, and they are all trained with the stochastic gradient descent optimizer."
      ]
    },
    {
      "cell_type": "markdown",
      "metadata": {
        "id": "eHOPpOCxJW8G"
      },
      "source": [
        "## Dataset preprocessing\n",
        "\n",
        "The Iris dataset is first uploaded as raw data from *Iris.csv* file."
      ]
    },
    {
      "cell_type": "markdown",
      "metadata": {
        "id": "WSMe3vpxTTb_"
      },
      "source": [
        "Import modules:"
      ]
    },
    {
      "cell_type": "code",
      "execution_count": 32,
      "metadata": {
        "id": "rEIPsgQ1l6DO"
      },
      "outputs": [],
      "source": [
        "import torch\n",
        "from torch.utils.data import DataLoader\n",
        "from torch.utils.data import Dataset\n",
        "import torch.nn as nn\n",
        "import torch.nn.functional as F\n",
        "import csv\n",
        "import numpy as np\n",
        "import matplotlib.pyplot as plt"
      ]
    },
    {
      "cell_type": "markdown",
      "metadata": {
        "id": "ms4SRkyI0ASy"
      },
      "source": [
        "Upload the dataset source file"
      ]
    },
    {
      "cell_type": "code",
      "execution_count": 2,
      "metadata": {
        "colab": {
          "base_uri": "https://localhost:8080/",
          "height": 73,
          "resources": {
            "http://localhost:8080/nbextensions/google.colab/files.js": {
              "data": "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",
              "headers": [
                [
                  "content-type",
                  "application/javascript"
                ]
              ],
              "ok": true,
              "status": 200,
              "status_text": ""
            }
          }
        },
        "id": "DzsIIdSUrWVX",
        "outputId": "91352164-2882-4daf-9ad7-ad1a8944b379"
      },
      "outputs": [
        {
          "data": {
            "text/html": [
              "\n",
              "     <input type=\"file\" id=\"files-2c159fdf-3b9c-442c-8613-b0891d8b81ee\" name=\"files[]\" multiple disabled\n",
              "        style=\"border:none\" />\n",
              "     <output id=\"result-2c159fdf-3b9c-442c-8613-b0891d8b81ee\">\n",
              "      Upload widget is only available when the cell has been executed in the\n",
              "      current browser session. Please rerun this cell to enable.\n",
              "      </output>\n",
              "      <script src=\"/nbextensions/google.colab/files.js\"></script> "
            ],
            "text/plain": [
              "<IPython.core.display.HTML object>"
            ]
          },
          "metadata": {},
          "output_type": "display_data"
        },
        {
          "name": "stdout",
          "output_type": "stream",
          "text": [
            "Saving Iris.csv to Iris.csv\n"
          ]
        }
      ],
      "source": [
        "from google.colab import files\n",
        "uploaded = files.upload()"
      ]
    },
    {
      "cell_type": "markdown",
      "metadata": {
        "id": "xCA3dufdUARM"
      },
      "source": [
        "### Preprocessing details\n",
        "\n",
        "The *IrisDataset* class stores our dataset and functions needed to prepare it. It inherits from the Pytorch *Dataset* class.\n",
        "\n",
        "The structure which stores the Iris dataset is the *data* list. When we first load the data from the .csv file (in *load_data()* function), we read each line and only save attributes which are needed. These are: sepal length, sepal width, petal length, petal width and species. The id is not necessary, so we leave it out.\n",
        "\n",
        "The species attribute contains categorical data, so we are using label encoding to encode it. Usually, one-hot encoding would be a better option for data which is not ordered, however the built-in *sklearn* Iris dataset used label encoding instead of one-hot encoding, so we also adopted this approach."
      ]
    },
    {
      "cell_type": "markdown",
      "metadata": {
        "id": "q6wjPY_Z-B0X"
      },
      "source": [
        "**Splitting the dataset into features and labels**\n",
        "\n",
        "The next step of the dataset processing is splitting the dataset into X and Y for our classification task. It is done in *get_xy()* function of the IrisDataset class.\n",
        "\n",
        "**Features** (**X**) attributes: **sepal length**, **sepal width**, **petal length** and **petal width**.\n",
        "\n",
        "**Label** (**Y**) attribute which the models will predict: **species**. "
      ]
    },
    {
      "cell_type": "code",
      "execution_count": 7,
      "metadata": {
        "id": "KqP0s9ZhJZXx"
      },
      "outputs": [],
      "source": [
        "class IrisDataset(Dataset):\n",
        "  def __init__(self):\n",
        "    self.data = []\n",
        "    self.load_data(\"Iris.csv\")\n",
        "\n",
        "  def __len__(self):\n",
        "    return len(self.data[0])\n",
        "\n",
        "  def __getitem__(self, index):\n",
        "    return self.data[0][index], self.data[1][index]\n",
        "\n",
        "  def load_data(self, file_name=\"Iris.csv\"):\n",
        "    with open(\"Iris.csv\") as input_file:\n",
        "      csv_reader = csv.reader(input_file, delimiter=',')\n",
        "      next(csv_reader, None)\n",
        "\n",
        "      print(\"Loading data from Iris.csv...\")\n",
        "\n",
        "      iris_data = []\n",
        "\n",
        "      for line in csv_reader:\n",
        "        assert len(line) == 6\n",
        "        iris_record = []\n",
        "        # reading the numeric attributes (except from id which is unnecessary)\n",
        "        iris_record.append(float(line[1]))  # sepal length (cm)\n",
        "        iris_record.append(float(line[2]))  # sepal width (cm)\n",
        "        iris_record.append(float(line[3]))  # petal length (cm)\n",
        "        iris_record.append(float(line[4]))  # petal width (cm)\n",
        "    \n",
        "        # label encoding for the species attributes\n",
        "        species = line[5]\n",
        "        if species == \"Iris-setosa\":\n",
        "          species = 0\n",
        "        elif species == \"Iris-versicolor\":\n",
        "          species = 1\n",
        "        elif species == \"Iris-virginica\":\n",
        "          species = 2\n",
        "\n",
        "        iris_record.append(species)\n",
        "        iris_data.append(iris_record)\n",
        "\n",
        "      self.data = iris_data\n",
        "      print(\"Attributes before X-Y split:\")\n",
        "      print(self.data)\n",
        "      self.data = self.get_xy()\n",
        "\n",
        "  def get_xy(self):\n",
        "    X_train = []  # features\n",
        "    Y_train = []  # labels\n",
        "\n",
        "    for i in range(len(self.data)):\n",
        "      X_train.append(self.data[i][0:4])\n",
        "      Y_train.append(self.data[i][4])\n",
        "\n",
        "    return [X_train, Y_train]\n"
      ]
    },
    {
      "cell_type": "markdown",
      "metadata": {
        "id": "74DdRCN5AqSS"
      },
      "source": [
        "**Initializing the dataset**\n",
        "\n",
        "Here we see the dataset before splitting it into features and labels, so simply a list of samples, where each sample is a 5-element attribute list, and then the dataset after the split, so a two element list [X, Y], where X is a list of lists of samples' features, and Y is a list of samples' labels (encoded species attribute)."
      ]
    },
    {
      "cell_type": "code",
      "execution_count": 8,
      "metadata": {
        "colab": {
          "base_uri": "https://localhost:8080/",
          "height": 0
        },
        "id": "Q4mxcKHv0Ja4",
        "outputId": "7805331e-2bcb-4432-cc2b-152276cae14d"
      },
      "outputs": [
        {
          "name": "stdout",
          "output_type": "stream",
          "text": [
            "Loading data from Iris.csv...\n",
            "Attributes before X-Y split:\n",
            "[[5.1, 3.5, 1.4, 0.2, 0], [4.9, 3.0, 1.4, 0.2, 0], [4.7, 3.2, 1.3, 0.2, 0], [4.6, 3.1, 1.5, 0.2, 0], [5.0, 3.6, 1.4, 0.2, 0], [5.4, 3.9, 1.7, 0.4, 0], [4.6, 3.4, 1.4, 0.3, 0], [5.0, 3.4, 1.5, 0.2, 0], [4.4, 2.9, 1.4, 0.2, 0], [4.9, 3.1, 1.5, 0.1, 0], [5.4, 3.7, 1.5, 0.2, 0], [4.8, 3.4, 1.6, 0.2, 0], [4.8, 3.0, 1.4, 0.1, 0], [4.3, 3.0, 1.1, 0.1, 0], [5.8, 4.0, 1.2, 0.2, 0], [5.7, 4.4, 1.5, 0.4, 0], [5.4, 3.9, 1.3, 0.4, 0], [5.1, 3.5, 1.4, 0.3, 0], [5.7, 3.8, 1.7, 0.3, 0], [5.1, 3.8, 1.5, 0.3, 0], [5.4, 3.4, 1.7, 0.2, 0], [5.1, 3.7, 1.5, 0.4, 0], [4.6, 3.6, 1.0, 0.2, 0], [5.1, 3.3, 1.7, 0.5, 0], [4.8, 3.4, 1.9, 0.2, 0], [5.0, 3.0, 1.6, 0.2, 0], [5.0, 3.4, 1.6, 0.4, 0], [5.2, 3.5, 1.5, 0.2, 0], [5.2, 3.4, 1.4, 0.2, 0], [4.7, 3.2, 1.6, 0.2, 0], [4.8, 3.1, 1.6, 0.2, 0], [5.4, 3.4, 1.5, 0.4, 0], [5.2, 4.1, 1.5, 0.1, 0], [5.5, 4.2, 1.4, 0.2, 0], [4.9, 3.1, 1.5, 0.1, 0], [5.0, 3.2, 1.2, 0.2, 0], [5.5, 3.5, 1.3, 0.2, 0], [4.9, 3.1, 1.5, 0.1, 0], [4.4, 3.0, 1.3, 0.2, 0], [5.1, 3.4, 1.5, 0.2, 0], [5.0, 3.5, 1.3, 0.3, 0], [4.5, 2.3, 1.3, 0.3, 0], [4.4, 3.2, 1.3, 0.2, 0], [5.0, 3.5, 1.6, 0.6, 0], [5.1, 3.8, 1.9, 0.4, 0], [4.8, 3.0, 1.4, 0.3, 0], [5.1, 3.8, 1.6, 0.2, 0], [4.6, 3.2, 1.4, 0.2, 0], [5.3, 3.7, 1.5, 0.2, 0], [5.0, 3.3, 1.4, 0.2, 0], [7.0, 3.2, 4.7, 1.4, 1], [6.4, 3.2, 4.5, 1.5, 1], [6.9, 3.1, 4.9, 1.5, 1], [5.5, 2.3, 4.0, 1.3, 1], [6.5, 2.8, 4.6, 1.5, 1], [5.7, 2.8, 4.5, 1.3, 1], [6.3, 3.3, 4.7, 1.6, 1], [4.9, 2.4, 3.3, 1.0, 1], [6.6, 2.9, 4.6, 1.3, 1], [5.2, 2.7, 3.9, 1.4, 1], [5.0, 2.0, 3.5, 1.0, 1], [5.9, 3.0, 4.2, 1.5, 1], [6.0, 2.2, 4.0, 1.0, 1], [6.1, 2.9, 4.7, 1.4, 1], [5.6, 2.9, 3.6, 1.3, 1], [6.7, 3.1, 4.4, 1.4, 1], [5.6, 3.0, 4.5, 1.5, 1], [5.8, 2.7, 4.1, 1.0, 1], [6.2, 2.2, 4.5, 1.5, 1], [5.6, 2.5, 3.9, 1.1, 1], [5.9, 3.2, 4.8, 1.8, 1], [6.1, 2.8, 4.0, 1.3, 1], [6.3, 2.5, 4.9, 1.5, 1], [6.1, 2.8, 4.7, 1.2, 1], [6.4, 2.9, 4.3, 1.3, 1], [6.6, 3.0, 4.4, 1.4, 1], [6.8, 2.8, 4.8, 1.4, 1], [6.7, 3.0, 5.0, 1.7, 1], [6.0, 2.9, 4.5, 1.5, 1], [5.7, 2.6, 3.5, 1.0, 1], [5.5, 2.4, 3.8, 1.1, 1], [5.5, 2.4, 3.7, 1.0, 1], [5.8, 2.7, 3.9, 1.2, 1], [6.0, 2.7, 5.1, 1.6, 1], [5.4, 3.0, 4.5, 1.5, 1], [6.0, 3.4, 4.5, 1.6, 1], [6.7, 3.1, 4.7, 1.5, 1], [6.3, 2.3, 4.4, 1.3, 1], [5.6, 3.0, 4.1, 1.3, 1], [5.5, 2.5, 4.0, 1.3, 1], [5.5, 2.6, 4.4, 1.2, 1], [6.1, 3.0, 4.6, 1.4, 1], [5.8, 2.6, 4.0, 1.2, 1], [5.0, 2.3, 3.3, 1.0, 1], [5.6, 2.7, 4.2, 1.3, 1], [5.7, 3.0, 4.2, 1.2, 1], [5.7, 2.9, 4.2, 1.3, 1], [6.2, 2.9, 4.3, 1.3, 1], [5.1, 2.5, 3.0, 1.1, 1], [5.7, 2.8, 4.1, 1.3, 1], [6.3, 3.3, 6.0, 2.5, 2], [5.8, 2.7, 5.1, 1.9, 2], [7.1, 3.0, 5.9, 2.1, 2], [6.3, 2.9, 5.6, 1.8, 2], [6.5, 3.0, 5.8, 2.2, 2], [7.6, 3.0, 6.6, 2.1, 2], [4.9, 2.5, 4.5, 1.7, 2], [7.3, 2.9, 6.3, 1.8, 2], [6.7, 2.5, 5.8, 1.8, 2], [7.2, 3.6, 6.1, 2.5, 2], [6.5, 3.2, 5.1, 2.0, 2], [6.4, 2.7, 5.3, 1.9, 2], [6.8, 3.0, 5.5, 2.1, 2], [5.7, 2.5, 5.0, 2.0, 2], [5.8, 2.8, 5.1, 2.4, 2], [6.4, 3.2, 5.3, 2.3, 2], [6.5, 3.0, 5.5, 1.8, 2], [7.7, 3.8, 6.7, 2.2, 2], [7.7, 2.6, 6.9, 2.3, 2], [6.0, 2.2, 5.0, 1.5, 2], [6.9, 3.2, 5.7, 2.3, 2], [5.6, 2.8, 4.9, 2.0, 2], [7.7, 2.8, 6.7, 2.0, 2], [6.3, 2.7, 4.9, 1.8, 2], [6.7, 3.3, 5.7, 2.1, 2], [7.2, 3.2, 6.0, 1.8, 2], [6.2, 2.8, 4.8, 1.8, 2], [6.1, 3.0, 4.9, 1.8, 2], [6.4, 2.8, 5.6, 2.1, 2], [7.2, 3.0, 5.8, 1.6, 2], [7.4, 2.8, 6.1, 1.9, 2], [7.9, 3.8, 6.4, 2.0, 2], [6.4, 2.8, 5.6, 2.2, 2], [6.3, 2.8, 5.1, 1.5, 2], [6.1, 2.6, 5.6, 1.4, 2], [7.7, 3.0, 6.1, 2.3, 2], [6.3, 3.4, 5.6, 2.4, 2], [6.4, 3.1, 5.5, 1.8, 2], [6.0, 3.0, 4.8, 1.8, 2], [6.9, 3.1, 5.4, 2.1, 2], [6.7, 3.1, 5.6, 2.4, 2], [6.9, 3.1, 5.1, 2.3, 2], [5.8, 2.7, 5.1, 1.9, 2], [6.8, 3.2, 5.9, 2.3, 2], [6.7, 3.3, 5.7, 2.5, 2], [6.7, 3.0, 5.2, 2.3, 2], [6.3, 2.5, 5.0, 1.9, 2], [6.5, 3.0, 5.2, 2.0, 2], [6.2, 3.4, 5.4, 2.3, 2], [5.9, 3.0, 5.1, 1.8, 2]]\n",
            "After X-Y split:\n",
            "[[[5.1, 3.5, 1.4, 0.2], [4.9, 3.0, 1.4, 0.2], [4.7, 3.2, 1.3, 0.2], [4.6, 3.1, 1.5, 0.2], [5.0, 3.6, 1.4, 0.2], [5.4, 3.9, 1.7, 0.4], [4.6, 3.4, 1.4, 0.3], [5.0, 3.4, 1.5, 0.2], [4.4, 2.9, 1.4, 0.2], [4.9, 3.1, 1.5, 0.1], [5.4, 3.7, 1.5, 0.2], [4.8, 3.4, 1.6, 0.2], [4.8, 3.0, 1.4, 0.1], [4.3, 3.0, 1.1, 0.1], [5.8, 4.0, 1.2, 0.2], [5.7, 4.4, 1.5, 0.4], [5.4, 3.9, 1.3, 0.4], [5.1, 3.5, 1.4, 0.3], [5.7, 3.8, 1.7, 0.3], [5.1, 3.8, 1.5, 0.3], [5.4, 3.4, 1.7, 0.2], [5.1, 3.7, 1.5, 0.4], [4.6, 3.6, 1.0, 0.2], [5.1, 3.3, 1.7, 0.5], [4.8, 3.4, 1.9, 0.2], [5.0, 3.0, 1.6, 0.2], [5.0, 3.4, 1.6, 0.4], [5.2, 3.5, 1.5, 0.2], [5.2, 3.4, 1.4, 0.2], [4.7, 3.2, 1.6, 0.2], [4.8, 3.1, 1.6, 0.2], [5.4, 3.4, 1.5, 0.4], [5.2, 4.1, 1.5, 0.1], [5.5, 4.2, 1.4, 0.2], [4.9, 3.1, 1.5, 0.1], [5.0, 3.2, 1.2, 0.2], [5.5, 3.5, 1.3, 0.2], [4.9, 3.1, 1.5, 0.1], [4.4, 3.0, 1.3, 0.2], [5.1, 3.4, 1.5, 0.2], [5.0, 3.5, 1.3, 0.3], [4.5, 2.3, 1.3, 0.3], [4.4, 3.2, 1.3, 0.2], [5.0, 3.5, 1.6, 0.6], [5.1, 3.8, 1.9, 0.4], [4.8, 3.0, 1.4, 0.3], [5.1, 3.8, 1.6, 0.2], [4.6, 3.2, 1.4, 0.2], [5.3, 3.7, 1.5, 0.2], [5.0, 3.3, 1.4, 0.2], [7.0, 3.2, 4.7, 1.4], [6.4, 3.2, 4.5, 1.5], [6.9, 3.1, 4.9, 1.5], [5.5, 2.3, 4.0, 1.3], [6.5, 2.8, 4.6, 1.5], [5.7, 2.8, 4.5, 1.3], [6.3, 3.3, 4.7, 1.6], [4.9, 2.4, 3.3, 1.0], [6.6, 2.9, 4.6, 1.3], [5.2, 2.7, 3.9, 1.4], [5.0, 2.0, 3.5, 1.0], [5.9, 3.0, 4.2, 1.5], [6.0, 2.2, 4.0, 1.0], [6.1, 2.9, 4.7, 1.4], [5.6, 2.9, 3.6, 1.3], [6.7, 3.1, 4.4, 1.4], [5.6, 3.0, 4.5, 1.5], [5.8, 2.7, 4.1, 1.0], [6.2, 2.2, 4.5, 1.5], [5.6, 2.5, 3.9, 1.1], [5.9, 3.2, 4.8, 1.8], [6.1, 2.8, 4.0, 1.3], [6.3, 2.5, 4.9, 1.5], [6.1, 2.8, 4.7, 1.2], [6.4, 2.9, 4.3, 1.3], [6.6, 3.0, 4.4, 1.4], [6.8, 2.8, 4.8, 1.4], [6.7, 3.0, 5.0, 1.7], [6.0, 2.9, 4.5, 1.5], [5.7, 2.6, 3.5, 1.0], [5.5, 2.4, 3.8, 1.1], [5.5, 2.4, 3.7, 1.0], [5.8, 2.7, 3.9, 1.2], [6.0, 2.7, 5.1, 1.6], [5.4, 3.0, 4.5, 1.5], [6.0, 3.4, 4.5, 1.6], [6.7, 3.1, 4.7, 1.5], [6.3, 2.3, 4.4, 1.3], [5.6, 3.0, 4.1, 1.3], [5.5, 2.5, 4.0, 1.3], [5.5, 2.6, 4.4, 1.2], [6.1, 3.0, 4.6, 1.4], [5.8, 2.6, 4.0, 1.2], [5.0, 2.3, 3.3, 1.0], [5.6, 2.7, 4.2, 1.3], [5.7, 3.0, 4.2, 1.2], [5.7, 2.9, 4.2, 1.3], [6.2, 2.9, 4.3, 1.3], [5.1, 2.5, 3.0, 1.1], [5.7, 2.8, 4.1, 1.3], [6.3, 3.3, 6.0, 2.5], [5.8, 2.7, 5.1, 1.9], [7.1, 3.0, 5.9, 2.1], [6.3, 2.9, 5.6, 1.8], [6.5, 3.0, 5.8, 2.2], [7.6, 3.0, 6.6, 2.1], [4.9, 2.5, 4.5, 1.7], [7.3, 2.9, 6.3, 1.8], [6.7, 2.5, 5.8, 1.8], [7.2, 3.6, 6.1, 2.5], [6.5, 3.2, 5.1, 2.0], [6.4, 2.7, 5.3, 1.9], [6.8, 3.0, 5.5, 2.1], [5.7, 2.5, 5.0, 2.0], [5.8, 2.8, 5.1, 2.4], [6.4, 3.2, 5.3, 2.3], [6.5, 3.0, 5.5, 1.8], [7.7, 3.8, 6.7, 2.2], [7.7, 2.6, 6.9, 2.3], [6.0, 2.2, 5.0, 1.5], [6.9, 3.2, 5.7, 2.3], [5.6, 2.8, 4.9, 2.0], [7.7, 2.8, 6.7, 2.0], [6.3, 2.7, 4.9, 1.8], [6.7, 3.3, 5.7, 2.1], [7.2, 3.2, 6.0, 1.8], [6.2, 2.8, 4.8, 1.8], [6.1, 3.0, 4.9, 1.8], [6.4, 2.8, 5.6, 2.1], [7.2, 3.0, 5.8, 1.6], [7.4, 2.8, 6.1, 1.9], [7.9, 3.8, 6.4, 2.0], [6.4, 2.8, 5.6, 2.2], [6.3, 2.8, 5.1, 1.5], [6.1, 2.6, 5.6, 1.4], [7.7, 3.0, 6.1, 2.3], [6.3, 3.4, 5.6, 2.4], [6.4, 3.1, 5.5, 1.8], [6.0, 3.0, 4.8, 1.8], [6.9, 3.1, 5.4, 2.1], [6.7, 3.1, 5.6, 2.4], [6.9, 3.1, 5.1, 2.3], [5.8, 2.7, 5.1, 1.9], [6.8, 3.2, 5.9, 2.3], [6.7, 3.3, 5.7, 2.5], [6.7, 3.0, 5.2, 2.3], [6.3, 2.5, 5.0, 1.9], [6.5, 3.0, 5.2, 2.0], [6.2, 3.4, 5.4, 2.3], [5.9, 3.0, 5.1, 1.8]], [0, 0, 0, 0, 0, 0, 0, 0, 0, 0, 0, 0, 0, 0, 0, 0, 0, 0, 0, 0, 0, 0, 0, 0, 0, 0, 0, 0, 0, 0, 0, 0, 0, 0, 0, 0, 0, 0, 0, 0, 0, 0, 0, 0, 0, 0, 0, 0, 0, 0, 1, 1, 1, 1, 1, 1, 1, 1, 1, 1, 1, 1, 1, 1, 1, 1, 1, 1, 1, 1, 1, 1, 1, 1, 1, 1, 1, 1, 1, 1, 1, 1, 1, 1, 1, 1, 1, 1, 1, 1, 1, 1, 1, 1, 1, 1, 1, 1, 1, 1, 2, 2, 2, 2, 2, 2, 2, 2, 2, 2, 2, 2, 2, 2, 2, 2, 2, 2, 2, 2, 2, 2, 2, 2, 2, 2, 2, 2, 2, 2, 2, 2, 2, 2, 2, 2, 2, 2, 2, 2, 2, 2, 2, 2, 2, 2, 2, 2, 2, 2]]\n"
          ]
        }
      ],
      "source": [
        "dataset = IrisDataset()\n",
        "print(\"After X-Y split:\")\n",
        "print(dataset.data)"
      ]
    },
    {
      "cell_type": "markdown",
      "metadata": {
        "id": "NCsreCNmwJ6Y"
      },
      "source": [
        "**Splitting the dataset**\n",
        "\n",
        "The next step is splitting the dataset into three sets: training, validation and test set.\n",
        "\n",
        "The first split on the dataset creates the **validation set** of **10 samples** and leaves **140 remaining** samples for the train-test split.\n",
        "\n",
        "The training-test split is done in **80/20** proportions, which gives us **112 training samples** and **28 test samples**.\n",
        "\n"
      ]
    },
    {
      "cell_type": "code",
      "execution_count": 9,
      "metadata": {
        "colab": {
          "base_uri": "https://localhost:8080/",
          "height": 0
        },
        "id": "ps4Pc1QpeWLl",
        "outputId": "b94e6ae4-e3f5-45da-fba8-268d80739562"
      },
      "outputs": [
        {
          "name": "stdout",
          "output_type": "stream",
          "text": [
            "10 validation samples.\n",
            "140 remaining samples.\n"
          ]
        }
      ],
      "source": [
        "validation_set, remaining = torch.utils.data.random_split(dataset, [10, int((dataset.__len__())-10)])   # 10 samples for validation\n",
        "print(str(len(validation_set)) + \" validation samples.\")\n",
        "print(str(len(remaining)) + \" remaining samples.\")"
      ]
    },
    {
      "cell_type": "code",
      "execution_count": 10,
      "metadata": {
        "colab": {
          "base_uri": "https://localhost:8080/",
          "height": 0
        },
        "id": "ada6PD75sI8_",
        "outputId": "a4a338d2-474d-4dd7-b493-b262a2341cb3"
      },
      "outputs": [
        {
          "name": "stdout",
          "output_type": "stream",
          "text": [
            "112 training samples.\n",
            "28 test samples.\n"
          ]
        }
      ],
      "source": [
        "lengths = [int(len(remaining)*0.8), int(len(remaining)*0.2)]  # 80/20 split\n",
        "training_set, test_set = torch.utils.data.random_split(remaining, lengths)\n",
        "print(str(len(training_set)) + \" training samples.\")\n",
        "print(str(len(test_set)) + \" test samples.\")"
      ]
    },
    {
      "cell_type": "markdown",
      "metadata": {
        "id": "6og3C3fRGFTu"
      },
      "source": [
        "Initializing DataLoader iterator objects for our dataset:"
      ]
    },
    {
      "cell_type": "code",
      "execution_count": 11,
      "metadata": {
        "id": "gJq-T9g-GNnM"
      },
      "outputs": [],
      "source": [
        "train_iterator = DataLoader(training_set)   # no batches since the dataset is very small\n",
        "validation_iterator = DataLoader(validation_set)\n",
        "test_iterator = DataLoader(test_set)"
      ]
    },
    {
      "cell_type": "markdown",
      "metadata": {
        "id": "U7Xcu29WExFa"
      },
      "source": [
        "## **The models**"
      ]
    },
    {
      "cell_type": "markdown",
      "metadata": {
        "id": "ZGGwxx04lYUi"
      },
      "source": [
        "The models trained in this task are **N-layer perceptrons**, but more specifically - **multilayer perceptrons**.\n",
        "\n",
        "A **single layer perceptron** (or simply **perceptron**) is the simplest type of an artificial neural network and it can only classify cases with a binary target (0, 1). Our classification task involves three target classes, so it would not work. Therefore, we are only considering **MLP**s (multilayer perceptrons).\n",
        "\n",
        "A multilayer perceptron is a fully connected class of feedforward artificial neural network (ANN). It consists of at least three layers:\n",
        "*   input layer\n",
        "*   hidden layer(s)\n",
        "*   output layer\n",
        "\n",
        "Each node (except from the input nodes) is a neuron which uses a nonlinear activation function. Training is done using a supervised learning technique called backpropagation. We are using the Pytorch library to implement it.\n",
        "\n",
        "Our goal in this task is to see how number of layers in a NN affects final metrics. To accomplish this, we created a *MultilayerPerceptron* class which allows us to create instances of models with different numbers of hidden layers.\n",
        "\n",
        "When initializing an instance of this class, apart from passing input, hidden and output dimensions, we are also passing the number of hidden layers. The model's multiple hidden layers are activated using ReLU function.\n",
        "\n",
        "We tested following MLPs:\n",
        "\n",
        "*   with 2 layers (so 1 hidden layer)\n",
        "*   with 3 layers (so 2 hidden layers)\n",
        "*   with 4 layers (so 3 hidden layers)\n",
        "*   with 5 layers (so 4 hidden layers)\n",
        "\n",
        "All of mentioned MLPs were implemented with two cost functions: Mean Squared Error (MSE) and Mean Absolute Error (MAE). Even though these loss functions are not considered the first choices for typical classification tasks, we have decided to use them, because they are simple and the output of our nets is just one value which (if the model does well) should be close to the target value (0, 1 or 2 depending on the iris species). So these loss functions simply measure how far the predicted value deviated from the target value.\n",
        "\n",
        "All MLPs are also trained in the same amount of **epochs** - **15**, in order to focus on the multiple layers' effect on the network, instead of optimizing each network by adjusting to its size (for example trying increasing the number of epochs to see if it improves).\n"
      ]
    },
    {
      "cell_type": "markdown",
      "metadata": {
        "id": "hPwf5IydAyfb"
      },
      "source": [
        "**Defining the N-layer perceptron model class with a parameter-specified number of hidden layers:**"
      ]
    },
    {
      "cell_type": "code",
      "execution_count": 49,
      "metadata": {
        "id": "xDgKy39twYhG"
      },
      "outputs": [],
      "source": [
        "class MultilayerPerceptron(nn.Module):\n",
        "  def __init__(self, input_dim, num_hidden_layers, hidden_dim, output_dim):\n",
        "    super(MultilayerPerceptron, self).__init__()\n",
        "\n",
        "    # input layer\n",
        "    self.input_layer = nn.Linear(input_dim, hidden_dim)\n",
        "\n",
        "    # hidden layers\n",
        "    self.hidden_layers = nn.ModuleList()\n",
        "    for i in range(0, num_hidden_layers):\n",
        "      self.hidden_layers.append(nn.Linear(hidden_dim, hidden_dim))\n",
        "\n",
        "    # output layer\n",
        "    self.output_layer = nn.Linear(hidden_dim, output_dim)\n",
        "\n",
        "  def forward(self, x):\n",
        "    out = self.input_layer(x)\n",
        "    out = F.relu(out)\n",
        "\n",
        "    for layer in self.hidden_layers:\n",
        "      out = layer(out)\n",
        "      out = F.relu(out)\n",
        "\n",
        "    out = self.output_layer(out)\n",
        "\n",
        "    return out\n"
      ]
    },
    {
      "cell_type": "markdown",
      "metadata": {
        "id": "NfAxW6E35Lyi"
      },
      "source": [
        "Switching to GPU"
      ]
    },
    {
      "cell_type": "code",
      "execution_count": 50,
      "metadata": {
        "colab": {
          "base_uri": "https://localhost:8080/",
          "height": 0
        },
        "id": "e3Ls8h385K5C",
        "outputId": "a5393cee-b65f-4b0f-f9ac-2dcda7b3adca"
      },
      "outputs": [
        {
          "name": "stdout",
          "output_type": "stream",
          "text": [
            "Using device: cuda:0\n"
          ]
        }
      ],
      "source": [
        "# CUDA for Pytorch\n",
        "use_cuda = torch.cuda.is_available()\n",
        "device = torch.device(\"cuda:0\" if use_cuda else \"cpu\")\n",
        "print(\"Using device: \" + str(device))\n",
        "torch.backends.cudnn.benchmark = True"
      ]
    },
    {
      "cell_type": "markdown",
      "metadata": {
        "id": "XX1iX62N5PRB"
      },
      "source": [
        "# Initializing, training and testing N-layer perceptrons"
      ]
    },
    {
      "cell_type": "markdown",
      "metadata": {
        "id": "EHOaQwD683Ti"
      },
      "source": [
        "## Two-layer perceptron\n",
        "\n",
        "Input layer -> hidden layer -> output layer"
      ]
    },
    {
      "cell_type": "markdown",
      "metadata": {
        "id": "-7kiqjE740h3"
      },
      "source": [
        "**Trained with Mean Squared Error loss function:**"
      ]
    },
    {
      "cell_type": "code",
      "execution_count": 51,
      "metadata": {
        "colab": {
          "base_uri": "https://localhost:8080/",
          "height": 0
        },
        "id": "I21sBUnpyLur",
        "outputId": "1dd61ab6-236d-4046-8823-2c8d82766f21"
      },
      "outputs": [
        {
          "name": "stdout",
          "output_type": "stream",
          "text": [
            "MultilayerPerceptron(\n",
            "  (input_layer): Linear(in_features=4, out_features=3, bias=True)\n",
            "  (hidden_layers): ModuleList(\n",
            "    (0): Linear(in_features=3, out_features=3, bias=True)\n",
            "  )\n",
            "  (output_layer): Linear(in_features=3, out_features=1, bias=True)\n",
            ")\n",
            "\n",
            "Training the two-layer perceptron with MSE loss...\n",
            "\n",
            "Starting epoch 1...\n",
            "Training loss = 0.33100258152437945\n",
            "Validation loss = 0.0779700659273658\n",
            "Starting epoch 2...\n",
            "Training loss = 0.12218850151111837\n",
            "Validation loss = 0.08078202089527622\n",
            "Starting epoch 3...\n",
            "Training loss = 0.10153173815332549\n",
            "Validation loss = 0.08205568028752168\n",
            "Starting epoch 4...\n",
            "Training loss = 0.09446928187425588\n",
            "Validation loss = 0.08160775287142315\n",
            "Starting epoch 5...\n",
            "Training loss = 0.08924125694540626\n",
            "Validation loss = 0.07456750599376391\n",
            "Starting epoch 6...\n",
            "Training loss = 0.0846632627774235\n",
            "Validation loss = 0.07330675255507231\n",
            "Starting epoch 7...\n",
            "Training loss = 0.07972553212032706\n",
            "Validation loss = 0.07147570378147065\n",
            "Starting epoch 8...\n",
            "Training loss = 0.07590219945601108\n",
            "Validation loss = 0.0699121905840002\n",
            "Starting epoch 9...\n",
            "Training loss = 0.07297222810286032\n",
            "Validation loss = 0.06829075798741542\n",
            "Starting epoch 10...\n",
            "Training loss = 0.07058361041749325\n",
            "Validation loss = 0.06658291883973107\n",
            "Starting epoch 11...\n",
            "Training loss = 0.06848184405294352\n",
            "Validation loss = 0.06490440747802495\n",
            "Starting epoch 12...\n",
            "Training loss = 0.0666961007600443\n",
            "Validation loss = 0.06326627907546936\n",
            "Starting epoch 13...\n",
            "Training loss = 0.06516037082713362\n",
            "Validation loss = 0.061690903530688956\n",
            "Starting epoch 14...\n",
            "Training loss = 0.06382640337737608\n",
            "Validation loss = 0.06019904654385897\n",
            "Starting epoch 15...\n",
            "Training loss = 0.06265789945635206\n",
            "Validation loss = 0.05880419578170404\n"
          ]
        }
      ],
      "source": [
        "# initialize the NN to have 1 hidden layer\n",
        "two_layer_nn1 = MultilayerPerceptron(4, 1, 3, 1)\n",
        "print(two_layer_nn1)\n",
        "\n",
        "# transfer model to GPU\n",
        "two_layer_nn1.to(device)\n",
        "\n",
        "# define loss function and optimizer (stochastic gradient descent)\n",
        "loss_function = torch.nn.MSELoss()\n",
        "optimizer = torch.optim.SGD(two_layer_nn1.parameters(), lr=0.01)\n",
        "\n",
        "print(\"\\nTraining the two-layer perceptron with MSE loss...\\n\")\n",
        "\n",
        "num_epochs = 15\n",
        "\n",
        "train_losses = []\n",
        "valid_losses = []\n",
        "\n",
        "# loop over epochs\n",
        "for epoch in range(num_epochs):\n",
        "  print(\"Starting epoch \" + str(epoch + 1) + \"...\")\n",
        "  train_loss = 0.0\n",
        "\n",
        "  # training\n",
        "  for features, label in train_iterator:\n",
        "    # transfer to GPU\n",
        "    features = torch.concat(features).to(device)\n",
        "    label = label.to(device)\n",
        "\n",
        "    # model computations\n",
        "\n",
        "    # set gradients to 0 before calculating loss\n",
        "    two_layer_nn1.zero_grad()\n",
        "\n",
        "    # forward pass\n",
        "    output = two_layer_nn1(features.float())\n",
        "\n",
        "    # calculate the loss function\n",
        "    loss = loss_function(output, label.float())\n",
        "\n",
        "    # backpropagation, calculating gradients\n",
        "    loss.backward()\n",
        "\n",
        "    # update weights\n",
        "    optimizer.step()\n",
        "\n",
        "    train_loss += loss.item()\n",
        "\n",
        "  print(\"Training loss = \" + str(train_loss/len(train_iterator)))\n",
        "  train_losses.append(train_loss/len(train_iterator))\n",
        "\n",
        "  # validation\n",
        "  with torch.set_grad_enabled(False):\n",
        "    valid_loss = 0.0\n",
        "    for features, label in validation_iterator:\n",
        "      # transfer to GPU\n",
        "      features = torch.concat(features).to(device)\n",
        "      label = label.to(device)\n",
        "\n",
        "      # model computations\n",
        "      output = two_layer_nn1(features.float())\n",
        "      loss = loss_function(output, label.float())\n",
        "\n",
        "      valid_loss += loss.item()\n",
        "\n",
        "    print(\"Validation loss = \" + str(valid_loss/len(validation_iterator)))\n",
        "    valid_losses.append(valid_loss/len(validation_iterator))\n",
        "\n",
        "    "
      ]
    },
    {
      "cell_type": "markdown",
      "metadata": {
        "id": "2NwGq8Q11tYf"
      },
      "source": [
        "**Plot the training-validation curve**"
      ]
    },
    {
      "cell_type": "code",
      "execution_count": 52,
      "metadata": {
        "colab": {
          "base_uri": "https://localhost:8080/",
          "height": 265
        },
        "id": "BKBOuh2n1wOj",
        "outputId": "da6e67ad-74ce-4809-a0d8-2422af749b6a"
      },
      "outputs": [
        {
          "data": {
            "image/png": "[encoded data removed]",
            "text/plain": [
              "<Figure size 432x288 with 1 Axes>"
            ]
          },
          "metadata": {
            "needs_background": "light"
          },
          "output_type": "display_data"
        }
      ],
      "source": [
        "epochs = list(range(1, num_epochs+1))\n",
        "plt.plot(epochs, train_losses, 'ro', label=\"Training loss\")\n",
        "plt.plot(epochs, valid_losses, 'g*', label=\"Validation loss\")\n",
        "plt.legend()\n",
        "plt.show()"
      ]
    },
    {
      "cell_type": "markdown",
      "metadata": {
        "id": "afVharWbE5XX"
      },
      "source": [
        "**Testing the model's accuracy**"
      ]
    },
    {
      "cell_type": "code",
      "execution_count": 53,
      "metadata": {
        "colab": {
          "base_uri": "https://localhost:8080/",
          "height": 0
        },
        "id": "137huHkfE8xY",
        "outputId": "578fce56-484a-4a8d-a6cc-a090c569f3d8"
      },
      "outputs": [
        {
          "name": "stdout",
          "output_type": "stream",
          "text": [
            "Accuracy of the model based on 28 test samples: 96.42857142857143\n"
          ]
        }
      ],
      "source": [
        "with torch.set_grad_enabled(False):\n",
        "    accuracy = 0.0\n",
        "    for features, label in test_iterator:\n",
        "      # transfer to GPU\n",
        "      features = torch.concat(features).to(device)\n",
        "      label = label.to(device)\n",
        "\n",
        "      output = two_layer_nn1(features.float())\n",
        "\n",
        "      predicted = torch.round(output)\n",
        "      accuracy += (predicted == label).sum().item()\n",
        "\n",
        "    print(\"Accuracy of the model based on \" + str(len(test_iterator)) + \" test samples: \" + str(100 * accuracy/len(test_iterator)))"
      ]
    },
    {
      "cell_type": "markdown",
      "metadata": {
        "id": "AL6FW0lQCEEr"
      },
      "source": [
        "**Observations**\n",
        "\n",
        "The **two-layer perceptron** model performed **very well**. Based on the training-validation curve, it seems that after 15 epochs it **converges** beautifully, so it was performing very satisfactorily on both training and validation data. It also scored very high accuracy: **96%**.\n",
        "\n",
        "Our dataset was very small, there are only 112 samples for training, so to accomplish good results, **a good model is one which is able to generalize well**. This one certainly did.\n",
        "\n",
        "It also seems that the **Mean Squared Error** metric contributed to quite **stable** results."
      ]
    },
    {
      "cell_type": "markdown",
      "metadata": {
        "id": "wHK8i_rZ1gun"
      },
      "source": [
        "**Trained with Mean Absolute Error loss function:**"
      ]
    },
    {
      "cell_type": "code",
      "execution_count": 92,
      "metadata": {
        "colab": {
          "base_uri": "https://localhost:8080/",
          "height": 0
        },
        "id": "rLd3QUnw1hLv",
        "outputId": "03f2164b-6739-4132-b16b-ff4c97ac6916"
      },
      "outputs": [
        {
          "name": "stdout",
          "output_type": "stream",
          "text": [
            "MultilayerPerceptron(\n",
            "  (input_layer): Linear(in_features=4, out_features=3, bias=True)\n",
            "  (hidden_layers): ModuleList(\n",
            "    (0): Linear(in_features=3, out_features=3, bias=True)\n",
            "  )\n",
            "  (output_layer): Linear(in_features=3, out_features=1, bias=True)\n",
            ")\n",
            "\n",
            "Training the two-layer perceptron with MAE loss...\n",
            "\n",
            "Starting epoch 1...\n",
            "Training loss = 0.5814344228378364\n",
            "Validation loss = 0.2700388580560684\n",
            "Starting epoch 2...\n",
            "Training loss = 0.2793390882600631\n",
            "Validation loss = 0.2083013892173767\n",
            "Starting epoch 3...\n",
            "Training loss = 0.23710989393293858\n",
            "Validation loss = 0.18174836933612823\n",
            "Starting epoch 4...\n",
            "Training loss = 0.24427837479327405\n",
            "Validation loss = 0.2233034610748291\n",
            "Starting epoch 5...\n",
            "Training loss = 0.23904717074973242\n",
            "Validation loss = 0.13327444791793824\n",
            "Starting epoch 6...\n",
            "Training loss = 0.2349440579169563\n",
            "Validation loss = 0.24994919300079346\n",
            "Starting epoch 7...\n",
            "Training loss = 0.22236932627856731\n",
            "Validation loss = 0.3288120567798615\n",
            "Starting epoch 8...\n",
            "Training loss = 0.21953046587961061\n",
            "Validation loss = 0.2803720772266388\n",
            "Starting epoch 9...\n",
            "Training loss = 0.22081837137894972\n",
            "Validation loss = 0.14470461010932922\n",
            "Starting epoch 10...\n",
            "Training loss = 0.23274494747498206\n",
            "Validation loss = 0.23026169538497926\n",
            "Starting epoch 11...\n",
            "Training loss = 0.22010987385043077\n",
            "Validation loss = 0.22948270440101623\n",
            "Starting epoch 12...\n",
            "Training loss = 0.2185690234016095\n",
            "Validation loss = 0.2857395589351654\n",
            "Starting epoch 13...\n",
            "Training loss = 0.22348306673978055\n",
            "Validation loss = 0.1400468409061432\n",
            "Starting epoch 14...\n",
            "Training loss = 0.22268565957035338\n",
            "Validation loss = 0.15414865016937257\n",
            "Starting epoch 15...\n",
            "Training loss = 0.22308766389531748\n",
            "Validation loss = 0.153840172290802\n"
          ]
        }
      ],
      "source": [
        "# initialize the NN to have 1 hidden layer\n",
        "two_layer_nn2 = MultilayerPerceptron(4, 1, 3, 1)\n",
        "print(two_layer_nn2)\n",
        "\n",
        "# transfer model to GPU\n",
        "two_layer_nn2.to(device)\n",
        "\n",
        "# define loss function and optimizer (stochastic gradient descent)\n",
        "loss_function = torch.nn.L1Loss()\n",
        "optimizer = torch.optim.SGD(two_layer_nn2.parameters(), lr=0.01)\n",
        "\n",
        "print(\"\\nTraining the two-layer perceptron with MAE loss...\\n\")\n",
        "\n",
        "num_epochs = 15\n",
        "\n",
        "train_losses = []\n",
        "valid_losses = []\n",
        "\n",
        "# loop over epochs\n",
        "for epoch in range(num_epochs):\n",
        "  print(\"Starting epoch \" + str(epoch + 1) + \"...\")\n",
        "  train_loss = 0.0\n",
        "\n",
        "  # training\n",
        "  for features, label in train_iterator:\n",
        "    # transfer to GPU\n",
        "    features = torch.concat(features).to(device)\n",
        "    label = label.to(device)\n",
        "\n",
        "    # model computations\n",
        "\n",
        "    # set gradients to 0 before calculating loss\n",
        "    two_layer_nn2.zero_grad()\n",
        "\n",
        "    # forward pass\n",
        "    output = two_layer_nn2(features.float())\n",
        "\n",
        "    # calculate the loss function\n",
        "    loss = loss_function(output, label.float())\n",
        "\n",
        "    # backpropagation, calculating gradients\n",
        "    loss.backward()\n",
        "\n",
        "    # update weights\n",
        "    optimizer.step()\n",
        "\n",
        "    train_loss += loss.item()\n",
        "\n",
        "  print(\"Training loss = \" + str(train_loss/len(train_iterator)))\n",
        "  train_losses.append(train_loss/len(train_iterator))\n",
        "\n",
        "  # validation\n",
        "  with torch.set_grad_enabled(False):\n",
        "    valid_loss = 0.0\n",
        "    for features, label in validation_iterator:\n",
        "      # transfer to GPU\n",
        "      features = torch.concat(features).to(device)\n",
        "      label = label.to(device)\n",
        "\n",
        "      # model computations\n",
        "      output = two_layer_nn2(features.float())\n",
        "      loss = loss_function(output, label.float())\n",
        "\n",
        "      valid_loss += loss.item()\n",
        "\n",
        "    print(\"Validation loss = \" + str(valid_loss/len(validation_iterator)))\n",
        "    valid_losses.append(valid_loss/len(validation_iterator))"
      ]
    },
    {
      "cell_type": "markdown",
      "metadata": {
        "id": "OT_SDJKC4ec-"
      },
      "source": [
        "**Plot the training-validation curve**"
      ]
    },
    {
      "cell_type": "code",
      "execution_count": 93,
      "metadata": {
        "colab": {
          "base_uri": "https://localhost:8080/",
          "height": 268
        },
        "id": "Wg8KWUlK4fOa",
        "outputId": "f230c9b7-56cc-43b7-d0fd-06f90ba3f82c"
      },
      "outputs": [
        {
          "data": {
            "image/png": "[encoded data removed]",
            "text/plain": [
              "<Figure size 432x288 with 1 Axes>"
            ]
          },
          "metadata": {
            "needs_background": "light"
          },
          "output_type": "display_data"
        }
      ],
      "source": [
        "epochs = list(range(1, num_epochs+1))\n",
        "plt.plot(epochs, train_losses, 'ro', label=\"Training loss\")\n",
        "plt.plot(epochs, valid_losses, 'g*', label=\"Validation loss\")\n",
        "plt.legend()\n",
        "plt.show()"
      ]
    },
    {
      "cell_type": "markdown",
      "metadata": {
        "id": "sx6DRjz2MCz8"
      },
      "source": [
        "**Testing the model's accuracy**"
      ]
    },
    {
      "cell_type": "code",
      "execution_count": 94,
      "metadata": {
        "colab": {
          "base_uri": "https://localhost:8080/",
          "height": 0
        },
        "id": "aAJA3KeeMDxf",
        "outputId": "df996e1c-0bc0-4f81-d1c8-7c0b6e200f15"
      },
      "outputs": [
        {
          "name": "stdout",
          "output_type": "stream",
          "text": [
            "Accuracy of the model based on 28 test samples: 92.85714285714286\n"
          ]
        }
      ],
      "source": [
        "with torch.set_grad_enabled(False):\n",
        "    accuracy = 0.0\n",
        "    for features, label in test_iterator:\n",
        "      # transfer to GPU\n",
        "      features = torch.concat(features).to(device)\n",
        "      label = label.to(device)\n",
        "\n",
        "      output = two_layer_nn2(features.float())\n",
        "\n",
        "      predicted = torch.round(output)\n",
        "      accuracy += (predicted == label).sum().item()\n",
        "\n",
        "    print(\"Accuracy of the model based on \" + str(len(test_iterator)) + \" test samples: \" + str(100 * accuracy/len(test_iterator)))"
      ]
    },
    {
      "cell_type": "markdown",
      "metadata": {
        "id": "s96wYzVjeLmi"
      },
      "source": [
        "**Observations**\n",
        "\n",
        "The second two-layer perceptron is trained using a different loss function - **Mean Absolute Error**, and it is visible right from first looking at the training-validation curve, as well as the accuracy, that this option yields more **unstable** results. The training loss decreases, but becomes stagnant after dropping to about 0.2. The validation loss does not follow any sensible pattern, so the model is not handling unobserved samples well.\n",
        "\n",
        "The accuracy is a bit lower than in case of MSE, but still not bad - **92.9%**.\n",
        "\n",
        "The reason why **MSE** proved to yield better results than **MAE** may be that because MSE uses a squared value - **any large deviations from the target value are heavily penalized**.\n",
        "\n"
      ]
    },
    {
      "cell_type": "markdown",
      "metadata": {
        "id": "WklWKtRq5AG9"
      },
      "source": [
        "## Three-layer perceptron\n",
        "\n",
        "Input layer -> hidden layer -> hidden layer -> output layer"
      ]
    },
    {
      "cell_type": "markdown",
      "metadata": {
        "id": "Z_rljMBk9TFc"
      },
      "source": [
        "**Trained with Mean Squared Error loss function:**"
      ]
    },
    {
      "cell_type": "code",
      "execution_count": 60,
      "metadata": {
        "colab": {
          "base_uri": "https://localhost:8080/",
          "height": 0
        },
        "id": "xdMhM6z7Exej",
        "outputId": "d83dc1d6-a1d1-489a-9302-6d406a6f969c"
      },
      "outputs": [
        {
          "name": "stdout",
          "output_type": "stream",
          "text": [
            "MultilayerPerceptron(\n",
            "  (input_layer): Linear(in_features=4, out_features=3, bias=True)\n",
            "  (hidden_layers): ModuleList(\n",
            "    (0): Linear(in_features=3, out_features=3, bias=True)\n",
            "    (1): Linear(in_features=3, out_features=3, bias=True)\n",
            "  )\n",
            "  (output_layer): Linear(in_features=3, out_features=1, bias=True)\n",
            ")\n",
            "\n",
            "Training the three-layer perceptron with MSE loss...\n",
            "\n",
            "Starting epoch 1...\n",
            "Training loss = 0.6383804970771182\n",
            "Validation loss = 0.28213832250912674\n",
            "Starting epoch 2...\n",
            "Training loss = 0.2506431064620642\n",
            "Validation loss = 0.08813927117735147\n",
            "Starting epoch 3...\n",
            "Training loss = 0.1314592558570991\n",
            "Validation loss = 0.11015951464651152\n",
            "Starting epoch 4...\n",
            "Training loss = 0.11723326247772548\n",
            "Validation loss = 0.11963264919904759\n",
            "Starting epoch 5...\n",
            "Training loss = 0.10676166445179344\n",
            "Validation loss = 0.1308299603580963\n",
            "Starting epoch 6...\n",
            "Training loss = 0.09609459767934934\n",
            "Validation loss = 0.14456666345940902\n",
            "Starting epoch 7...\n",
            "Training loss = 0.0907893219319545\n",
            "Validation loss = 0.1525502649252303\n",
            "Starting epoch 8...\n",
            "Training loss = 0.08364710027807885\n",
            "Validation loss = 0.1405965701676905\n",
            "Starting epoch 9...\n",
            "Training loss = 0.07588096264693535\n",
            "Validation loss = 0.1497926690732129\n",
            "Starting epoch 10...\n",
            "Training loss = 0.07571751994356443\n",
            "Validation loss = 0.1496393772540614\n",
            "Starting epoch 11...\n",
            "Training loss = 0.07252394248420597\n",
            "Validation loss = 0.1474352712277323\n",
            "Starting epoch 12...\n",
            "Training loss = 0.06949921245532462\n",
            "Validation loss = 0.14491173797287046\n",
            "Starting epoch 13...\n",
            "Training loss = 0.0672660484749252\n",
            "Validation loss = 0.14663543072529137\n",
            "Starting epoch 14...\n",
            "Training loss = 0.06556907545660096\n",
            "Validation loss = 0.14142556895967573\n",
            "Starting epoch 15...\n",
            "Training loss = 0.06362951142579083\n",
            "Validation loss = 0.13796997864264995\n"
          ]
        }
      ],
      "source": [
        "# initialize the NN to have 2 hidden layers\n",
        "three_layer_nn1 = MultilayerPerceptron(4, 2, 3, 1)\n",
        "print(three_layer_nn1)\n",
        "\n",
        "# transfer model to GPU\n",
        "three_layer_nn1.to(device)\n",
        "\n",
        "# define loss function and optimizer (stochastic gradient descent)\n",
        "loss_function = torch.nn.MSELoss()\n",
        "optimizer = torch.optim.SGD(three_layer_nn1.parameters(), lr=0.01)\\\n",
        "\n",
        "print(\"\\nTraining the three-layer perceptron with MSE loss...\\n\")\n",
        "\n",
        "num_epochs = 15\n",
        "\n",
        "train_losses = []\n",
        "valid_losses = []\n",
        "\n",
        "# loop over epochs\n",
        "for epoch in range(num_epochs):\n",
        "  print(\"Starting epoch \" + str(epoch + 1) + \"...\")\n",
        "  train_loss = 0.0\n",
        "\n",
        "  # training\n",
        "  for features, label in train_iterator:\n",
        "    # transfer to GPU\n",
        "    features = torch.concat(features).to(device)\n",
        "    label = label.to(device)\n",
        "\n",
        "    # model computations\n",
        "\n",
        "    # set gradients to 0 before calculating loss\n",
        "    three_layer_nn1.zero_grad()\n",
        "\n",
        "    # forward pass\n",
        "    output = three_layer_nn1(features.float())\n",
        "\n",
        "    # calculate the loss function\n",
        "    loss = loss_function(output, label.float())\n",
        "\n",
        "    # backpropagate\n",
        "    loss.backward()\n",
        "\n",
        "    # update weights\n",
        "    optimizer.step()\n",
        "\n",
        "    train_loss += loss.item()\n",
        "\n",
        "  print(\"Training loss = \" + str(train_loss/len(train_iterator)))\n",
        "  train_losses.append(train_loss/len(train_iterator))\n",
        "\n",
        "  # validation\n",
        "  with torch.set_grad_enabled(False):\n",
        "    valid_loss = 0.0\n",
        "    for features, label in validation_iterator:\n",
        "      # transfer to GPU\n",
        "      features = torch.concat(features).to(device)\n",
        "      label = label.to(device)\n",
        "\n",
        "      # model computations\n",
        "      output = three_layer_nn1(features.float())\n",
        "      loss = loss_function(output, label.float())\n",
        "\n",
        "      valid_loss += loss.item()\n",
        "\n",
        "    print(\"Validation loss = \" + str(valid_loss/len(validation_iterator)))\n",
        "    valid_losses.append(valid_loss/len(validation_iterator))"
      ]
    },
    {
      "cell_type": "markdown",
      "metadata": {
        "id": "bzcV8kKY8Li5"
      },
      "source": [
        "**Plot the training-validation curve**"
      ]
    },
    {
      "cell_type": "code",
      "execution_count": 61,
      "metadata": {
        "colab": {
          "base_uri": "https://localhost:8080/",
          "height": 265
        },
        "id": "yQlvtFzK8MXQ",
        "outputId": "2362ab23-142f-46a5-f802-9fafe9a11de5"
      },
      "outputs": [
        {
          "data": {
            "image/png": "[encoded data removed]",
            "text/plain": [
              "<Figure size 432x288 with 1 Axes>"
            ]
          },
          "metadata": {
            "needs_background": "light"
          },
          "output_type": "display_data"
        }
      ],
      "source": [
        "epochs = list(range(1, num_epochs+1))\n",
        "plt.plot(epochs, train_losses, 'ro', label=\"Training loss\")\n",
        "plt.plot(epochs, valid_losses, 'g*', label=\"Validation loss\")\n",
        "plt.legend()\n",
        "plt.show()"
      ]
    },
    {
      "cell_type": "markdown",
      "metadata": {
        "id": "Dukved9KMGoB"
      },
      "source": [
        "**Testing the model's accuracy**"
      ]
    },
    {
      "cell_type": "code",
      "execution_count": 62,
      "metadata": {
        "colab": {
          "base_uri": "https://localhost:8080/",
          "height": 0
        },
        "id": "TFJVbpSvMHd3",
        "outputId": "a6ce3c83-a0f3-4ce3-d378-f94f17fd9306"
      },
      "outputs": [
        {
          "name": "stdout",
          "output_type": "stream",
          "text": [
            "Accuracy of the model based on 28 test samples: 92.85714285714286\n"
          ]
        }
      ],
      "source": [
        "with torch.set_grad_enabled(False):\n",
        "    accuracy = 0.0\n",
        "    for features, label in test_iterator:\n",
        "      # transfer to GPU\n",
        "      features = torch.concat(features).to(device)\n",
        "      label = label.to(device)\n",
        "\n",
        "      output = three_layer_nn1(features.float())\n",
        "      loss = loss_function(output, label.float())\n",
        "\n",
        "      predicted = torch.round(output)\n",
        "      accuracy += (predicted == label).sum().item()\n",
        "\n",
        "    print(\"Accuracy of the model based on \" + str(len(test_iterator)) + \" test samples: \" + str(100 * accuracy/len(test_iterator)))"
      ]
    },
    {
      "cell_type": "markdown",
      "metadata": {
        "id": "YkvzsLV3jrJi"
      },
      "source": [
        "**Observations**\n",
        "\n",
        "The **three-layer perceptron** seemed to learn how to generalize data well very fast. It **converged after just 4 epoch**s, so at that point it would have potential to be an acceptable model. However, **after those 4 epochs** the model started **overfitting**, so the **number of layers became too much for current problem's complexity**. It lost its generalization ability. However, the accuracy is still not bad - **92.9%**."
      ]
    },
    {
      "cell_type": "markdown",
      "metadata": {
        "id": "T8sLp6z0AloS"
      },
      "source": [
        "**Trained with Mean Absolute Error loss function:**"
      ]
    },
    {
      "cell_type": "code",
      "execution_count": 63,
      "metadata": {
        "colab": {
          "base_uri": "https://localhost:8080/",
          "height": 0
        },
        "id": "sq3RYQKNAmBr",
        "outputId": "97d4acc5-8855-4533-a65f-36548ee129e0"
      },
      "outputs": [
        {
          "name": "stdout",
          "output_type": "stream",
          "text": [
            "MultilayerPerceptron(\n",
            "  (input_layer): Linear(in_features=4, out_features=3, bias=True)\n",
            "  (hidden_layers): ModuleList(\n",
            "    (0): Linear(in_features=3, out_features=3, bias=True)\n",
            "    (1): Linear(in_features=3, out_features=3, bias=True)\n",
            "  )\n",
            "  (output_layer): Linear(in_features=3, out_features=1, bias=True)\n",
            ")\n",
            "\n",
            "Training the three-layer perceptron with MAE loss...\n",
            "\n",
            "Starting epoch 1...\n",
            "Training loss = 0.7172680202472422\n",
            "Validation loss = 0.29666553139686586\n",
            "Starting epoch 2...\n",
            "Training loss = 0.39103851966293796\n",
            "Validation loss = 0.20042220503091812\n",
            "Starting epoch 3...\n",
            "Training loss = 0.2756162337692721\n",
            "Validation loss = 0.17516628950834273\n",
            "Starting epoch 4...\n",
            "Training loss = 0.2572048598168684\n",
            "Validation loss = 0.12779828161001205\n",
            "Starting epoch 5...\n",
            "Training loss = 0.24768082298604505\n",
            "Validation loss = 0.16436545103788375\n",
            "Starting epoch 6...\n",
            "Training loss = 0.24503963869730278\n",
            "Validation loss = 0.12701896578073502\n",
            "Starting epoch 7...\n",
            "Training loss = 0.23356454875985427\n",
            "Validation loss = 0.13075974881649016\n",
            "Starting epoch 8...\n",
            "Training loss = 0.22073577444202133\n",
            "Validation loss = 0.20236607939004897\n",
            "Starting epoch 9...\n",
            "Training loss = 0.23194649501238018\n",
            "Validation loss = 0.1268186718225479\n",
            "Starting epoch 10...\n",
            "Training loss = 0.23058730293996632\n",
            "Validation loss = 0.12597719728946685\n",
            "Starting epoch 11...\n",
            "Training loss = 0.22662265259506448\n",
            "Validation loss = 0.14406844303011895\n",
            "Starting epoch 12...\n",
            "Training loss = 0.2356920388493953\n",
            "Validation loss = 0.12507835254073144\n",
            "Starting epoch 13...\n",
            "Training loss = 0.22235700220335275\n",
            "Validation loss = 0.12998252660036086\n",
            "Starting epoch 14...\n",
            "Training loss = 0.2234579999848003\n",
            "Validation loss = 0.141012242436409\n",
            "Starting epoch 15...\n",
            "Training loss = 0.22094581379289074\n",
            "Validation loss = 0.12421125955879689\n"
          ]
        }
      ],
      "source": [
        "# initialize the NN to have 2 hidden layers\n",
        "three_layer_nn2 = MultilayerPerceptron(4, 2, 3, 1)\n",
        "print(three_layer_nn2)\n",
        "\n",
        "# transfer model to GPU\n",
        "three_layer_nn2.to(device)\n",
        "\n",
        "# define loss function and optimizer (stochastic gradient descent)\n",
        "loss_function = torch.nn.L1Loss()\n",
        "optimizer = torch.optim.SGD(three_layer_nn2.parameters(), lr=0.01)\\\n",
        "\n",
        "print(\"\\nTraining the three-layer perceptron with MAE loss...\\n\")\n",
        "\n",
        "num_epochs = 15\n",
        "\n",
        "train_losses = []\n",
        "valid_losses = []\n",
        "\n",
        "# loop over epochs\n",
        "for epoch in range(num_epochs):\n",
        "  print(\"Starting epoch \" + str(epoch + 1) + \"...\")\n",
        "  train_loss = 0.0\n",
        "\n",
        "  # training\n",
        "  for features, label in train_iterator:\n",
        "    # transfer to GPU\n",
        "    features = torch.concat(features).to(device)\n",
        "    label = label.to(device)\n",
        "\n",
        "    # model computations\n",
        "\n",
        "    # set gradients to 0 before calculating loss\n",
        "    three_layer_nn2.zero_grad()\n",
        "\n",
        "    # forward pass\n",
        "    output = three_layer_nn2(features.float())\n",
        "\n",
        "    # calculate the loss function\n",
        "    loss = loss_function(output, label.float())\n",
        "\n",
        "    # backpropagate\n",
        "    loss.backward()\n",
        "\n",
        "    # update weights\n",
        "    optimizer.step()\n",
        "\n",
        "    train_loss += loss.item()\n",
        "\n",
        "  print(\"Training loss = \" + str(train_loss/len(train_iterator)))\n",
        "  train_losses.append(train_loss/len(train_iterator))\n",
        "\n",
        "  # validation\n",
        "  with torch.set_grad_enabled(False):\n",
        "    valid_loss = 0.0\n",
        "    for features, label in validation_iterator:\n",
        "      # transfer to GPU\n",
        "      features = torch.concat(features).to(device)\n",
        "      label = label.to(device)\n",
        "\n",
        "      # model computations\n",
        "      output = three_layer_nn2(features.float())\n",
        "      loss = loss_function(output, label.float())\n",
        "\n",
        "      valid_loss += loss.item()\n",
        "\n",
        "    print(\"Validation loss = \" + str(valid_loss/len(validation_iterator)))\n",
        "    valid_losses.append(valid_loss/len(validation_iterator))"
      ]
    },
    {
      "cell_type": "markdown",
      "metadata": {
        "id": "4w1HwHBy8PAC"
      },
      "source": [
        "**Plot the training-validation curve**"
      ]
    },
    {
      "cell_type": "code",
      "execution_count": 64,
      "metadata": {
        "colab": {
          "base_uri": "https://localhost:8080/",
          "height": 265
        },
        "id": "_JucLNob8Pu-",
        "outputId": "d8a25a26-02cb-4065-86af-deba2a33189e"
      },
      "outputs": [
        {
          "data": {
            "image/png": "[encoded data removed]",
            "text/plain": [
              "<Figure size 432x288 with 1 Axes>"
            ]
          },
          "metadata": {
            "needs_background": "light"
          },
          "output_type": "display_data"
        }
      ],
      "source": [
        "epochs = list(range(1, num_epochs+1))\n",
        "plt.plot(epochs, train_losses, 'ro', label=\"Training loss\")\n",
        "plt.plot(epochs, valid_losses, 'g*', label=\"Validation loss\")\n",
        "plt.legend()\n",
        "plt.show()"
      ]
    },
    {
      "cell_type": "markdown",
      "metadata": {
        "id": "qY0AVvODMJTs"
      },
      "source": [
        "**Testing the model's accuracy**"
      ]
    },
    {
      "cell_type": "code",
      "execution_count": 65,
      "metadata": {
        "colab": {
          "base_uri": "https://localhost:8080/",
          "height": 0
        },
        "id": "OKsG1h6WMKE1",
        "outputId": "c4b7f610-6812-4a1c-fe92-5ce0f7789b35"
      },
      "outputs": [
        {
          "name": "stdout",
          "output_type": "stream",
          "text": [
            "Accuracy of the model based on 28 test samples: 89.28571428571429\n"
          ]
        }
      ],
      "source": [
        "with torch.set_grad_enabled(False):\n",
        "    accuracy = 0.0\n",
        "    for features, label in test_iterator:\n",
        "      # transfer to GPU\n",
        "      features = torch.concat(features).to(device)\n",
        "      label = label.to(device)\n",
        "\n",
        "      output = three_layer_nn2(features.float())\n",
        "      loss = loss_function(output, label.float())\n",
        "\n",
        "      predicted = torch.round(output)\n",
        "      accuracy += (predicted == label).sum().item()\n",
        "\n",
        "    print(\"Accuracy of the model based on \" + str(len(test_iterator)) + \" test samples: \" + str(100 * accuracy/len(test_iterator)))"
      ]
    },
    {
      "cell_type": "markdown",
      "metadata": {
        "id": "sU65wE-bmb8R"
      },
      "source": [
        "**Observations**\n",
        "\n",
        "The second **three-layer perceptron**, trained with MAE loss function, again yielded worse results than the one trained with MSE.\n",
        "\n",
        "As shown on the training-validation curve, the model **failed to converge** during 15 epochs and scored an **89%** accuracy.\n",
        "\n",
        "So again, as the first three-layer perceptron, it may be that the complexity of the network is too large for current problem's complexity."
      ]
    },
    {
      "cell_type": "markdown",
      "metadata": {
        "id": "rxyotce081TN"
      },
      "source": [
        "## Four level perceptron\n",
        "\n",
        "Input layer -> hidden layer -> hidden layer -> hidden layer -> output layer"
      ]
    },
    {
      "cell_type": "markdown",
      "metadata": {
        "id": "Z9ZcWGF-BabM"
      },
      "source": [
        "**Trained with Mean Squared Error loss function:**"
      ]
    },
    {
      "cell_type": "code",
      "execution_count": 66,
      "metadata": {
        "colab": {
          "base_uri": "https://localhost:8080/",
          "height": 0
        },
        "id": "xXdtgl0-RTIg",
        "outputId": "fe5dc170-7c70-4b7f-d495-6f57b724ced4"
      },
      "outputs": [
        {
          "name": "stdout",
          "output_type": "stream",
          "text": [
            "MultilayerPerceptron(\n",
            "  (input_layer): Linear(in_features=4, out_features=3, bias=True)\n",
            "  (hidden_layers): ModuleList(\n",
            "    (0): Linear(in_features=3, out_features=3, bias=True)\n",
            "    (1): Linear(in_features=3, out_features=3, bias=True)\n",
            "    (2): Linear(in_features=3, out_features=3, bias=True)\n",
            "  )\n",
            "  (output_layer): Linear(in_features=3, out_features=1, bias=True)\n",
            ")\n",
            "\n",
            "Training the four-layer perceptron with MSE loss...\n",
            "\n",
            "Starting epoch 1...\n",
            "Training loss = 1.1635109783580577\n",
            "Validation loss = 0.45350931528955696\n",
            "Starting epoch 2...\n",
            "Training loss = 0.6977145188315603\n",
            "Validation loss = 0.4587149902712554\n",
            "Starting epoch 3...\n",
            "Training loss = 0.6967986928148743\n",
            "Validation loss = 0.45987345310859384\n",
            "Starting epoch 4...\n",
            "Training loss = 0.6962317282504306\n",
            "Validation loss = 0.46100258617661893\n",
            "Starting epoch 5...\n",
            "Training loss = 0.695686765706796\n",
            "Validation loss = 0.4621101112104952\n",
            "Starting epoch 6...\n",
            "Training loss = 0.6951612423304466\n",
            "Validation loss = 0.46319714314304294\n",
            "Starting epoch 7...\n",
            "Training loss = 0.6946532786200805\n",
            "Validation loss = 0.46426479071378707\n",
            "Starting epoch 8...\n",
            "Training loss = 0.6941633134657812\n",
            "Validation loss = 0.4653116765897721\n",
            "Starting epoch 9...\n",
            "Training loss = 0.6936899787680285\n",
            "Validation loss = 0.46633884790353475\n",
            "Starting epoch 10...\n",
            "Training loss = 0.6932317967432076\n",
            "Validation loss = 0.46734719777014105\n",
            "Starting epoch 11...\n",
            "Training loss = 0.6927890095949435\n",
            "Validation loss = 0.46833563500549646\n",
            "Starting epoch 12...\n",
            "Training loss = 0.6923606375769806\n",
            "Validation loss = 0.46930499982554463\n",
            "Starting epoch 13...\n",
            "Training loss = 0.6919459470812593\n",
            "Validation loss = 0.4702554602641612\n",
            "Starting epoch 14...\n",
            "Training loss = 0.6915443044488094\n",
            "Validation loss = 0.47118741313461215\n",
            "Starting epoch 15...\n",
            "Training loss = 0.691155150210672\n",
            "Validation loss = 0.4721009069820866\n"
          ]
        }
      ],
      "source": [
        "# initialize the NN to have 3 hidden layers\n",
        "four_layer_nn1 = MultilayerPerceptron(4, 3, 3, 1)\n",
        "print(four_layer_nn1)\n",
        "\n",
        "# transfer model to GPU\n",
        "four_layer_nn1.to(device)\n",
        "\n",
        "# define loss function and optimizer (stochastic gradient descent)\n",
        "loss_function = torch.nn.MSELoss()\n",
        "optimizer = torch.optim.SGD(four_layer_nn1.parameters(), lr=0.01)\n",
        "\n",
        "print(\"\\nTraining the four-layer perceptron with MSE loss...\\n\")\n",
        "\n",
        "num_epochs = 15\n",
        "\n",
        "train_losses = []\n",
        "valid_losses = []\n",
        "\n",
        "# loop over epochs\n",
        "for epoch in range(num_epochs):\n",
        "  print(\"Starting epoch \" + str(epoch + 1) + \"...\")\n",
        "  train_loss = 0.0\n",
        "\n",
        "  # training\n",
        "  for features, label in train_iterator:\n",
        "    # transfer to GPU\n",
        "    features = torch.concat(features).to(device)\n",
        "    label = label.to(device)\n",
        "\n",
        "    # model computations\n",
        "\n",
        "    # set gradients to 0 before calculating loss\n",
        "    four_layer_nn1.zero_grad()\n",
        "\n",
        "    # forward pass\n",
        "    output = four_layer_nn1(features.float())\n",
        "\n",
        "    loss = loss_function(output, label.float())\n",
        "\n",
        "    loss.backward()\n",
        "\n",
        "    optimizer.step()\n",
        "\n",
        "    train_loss += loss.item()\n",
        "\n",
        "  print(\"Training loss = \" + str(train_loss/len(train_iterator)))\n",
        "  train_losses.append(train_loss/len(train_iterator))\n",
        "\n",
        "  # validation\n",
        "  with torch.set_grad_enabled(False):\n",
        "    valid_loss = 0.0\n",
        "    for features, label in validation_iterator:\n",
        "      # transfer to GPU\n",
        "      features = torch.concat(features).to(device)\n",
        "      label = label.to(device)\n",
        "\n",
        "      # model computations\n",
        "      output = four_layer_nn1(features.float())\n",
        "      loss = loss_function(output, label.float())\n",
        "\n",
        "      valid_loss += loss.item()\n",
        "\n",
        "    print(\"Validation loss = \" + str(valid_loss/len(validation_iterator)))\n",
        "    valid_losses.append(valid_loss/len(validation_iterator))"
      ]
    },
    {
      "cell_type": "markdown",
      "metadata": {
        "id": "x4u4TtA08Szu"
      },
      "source": [
        "**Plot the training-validation curve**"
      ]
    },
    {
      "cell_type": "code",
      "execution_count": 67,
      "metadata": {
        "colab": {
          "base_uri": "https://localhost:8080/",
          "height": 265
        },
        "id": "bObDBAlk8Tu7",
        "outputId": "ef7491c6-76c5-452b-d934-d06adb4de096"
      },
      "outputs": [
        {
          "data": {
            "image/png": "[encoded data removed]",
            "text/plain": [
              "<Figure size 432x288 with 1 Axes>"
            ]
          },
          "metadata": {
            "needs_background": "light"
          },
          "output_type": "display_data"
        }
      ],
      "source": [
        "epochs = list(range(1, num_epochs+1))\n",
        "plt.plot(epochs, train_losses, 'ro', label=\"Training loss\")\n",
        "plt.plot(epochs, valid_losses, 'g*', label=\"Validation loss\")\n",
        "plt.legend()\n",
        "plt.show()"
      ]
    },
    {
      "cell_type": "markdown",
      "metadata": {
        "id": "BD4jR3N0MTek"
      },
      "source": [
        "**Testing the model's accuracy**"
      ]
    },
    {
      "cell_type": "code",
      "execution_count": 68,
      "metadata": {
        "colab": {
          "base_uri": "https://localhost:8080/",
          "height": 0
        },
        "id": "DlaW3FWxMUP9",
        "outputId": "9b877896-487a-4b13-c271-be3eb588babc"
      },
      "outputs": [
        {
          "name": "stdout",
          "output_type": "stream",
          "text": [
            "Accuracy of the model based on 28 test samples: 28.571428571428573\n"
          ]
        }
      ],
      "source": [
        "with torch.set_grad_enabled(False):\n",
        "    accuracy = 0.0\n",
        "    for features, label in test_iterator:\n",
        "      # transfer to GPU\n",
        "      features = torch.concat(features).to(device)\n",
        "      label = label.to(device)\n",
        "\n",
        "      output = four_layer_nn1(features.float())\n",
        "\n",
        "      predicted = torch.round(output)\n",
        "      \n",
        "      accuracy += (predicted == label).sum().item()\n",
        "\n",
        "    print(\"Accuracy of the model based on \" + str(len(test_iterator)) + \" test samples: \" + str(100 * accuracy/len(test_iterator)))"
      ]
    },
    {
      "cell_type": "markdown",
      "metadata": {
        "id": "iXd6GcfmodjZ"
      },
      "source": [
        "**Observations**\n",
        "\n",
        "When we start observing perceptrons with **3 hidden layers or more**, the **negative effect** of increased number of hidden layers on the **current problem** becomes quite transparent.\n",
        "\n",
        "The model did not manage to learn how to generalize at all and for all samples it predicts the same value which is right only in **28%** of the time, as scored accuracy shows."
      ]
    },
    {
      "cell_type": "markdown",
      "metadata": {
        "id": "3hI3t1JSBFTl"
      },
      "source": [
        "**Trained with Mean Absolute Error loss function:**"
      ]
    },
    {
      "cell_type": "code",
      "execution_count": 69,
      "metadata": {
        "colab": {
          "base_uri": "https://localhost:8080/",
          "height": 0
        },
        "id": "UJ_3wJh4BIw8",
        "outputId": "35dd17a7-7576-48d1-b3ec-c8477935152b"
      },
      "outputs": [
        {
          "name": "stdout",
          "output_type": "stream",
          "text": [
            "MultilayerPerceptron(\n",
            "  (input_layer): Linear(in_features=4, out_features=3, bias=True)\n",
            "  (hidden_layers): ModuleList(\n",
            "    (0): Linear(in_features=3, out_features=3, bias=True)\n",
            "    (1): Linear(in_features=3, out_features=3, bias=True)\n",
            "    (2): Linear(in_features=3, out_features=3, bias=True)\n",
            "  )\n",
            "  (output_layer): Linear(in_features=3, out_features=1, bias=True)\n",
            ")\n",
            "\n",
            "Training the four-layer perceptron with MAE loss...\n",
            "\n",
            "Starting epoch 1...\n",
            "Training loss = 0.9620866047750626\n",
            "Validation loss = 0.5660091161727905\n",
            "Starting epoch 2...\n",
            "Training loss = 0.7041806748935154\n",
            "Validation loss = 0.5050746977329255\n",
            "Starting epoch 3...\n",
            "Training loss = 0.6820456135485854\n",
            "Validation loss = 0.5071509420871735\n",
            "Starting epoch 4...\n",
            "Training loss = 0.6818227512495858\n",
            "Validation loss = 0.5091474413871765\n",
            "Starting epoch 5...\n",
            "Training loss = 0.6822800455348832\n",
            "Validation loss = 0.5014684975147248\n",
            "Starting epoch 6...\n",
            "Training loss = 0.6817054258925574\n",
            "Validation loss = 0.5034299314022064\n",
            "Starting epoch 7...\n",
            "Training loss = 0.681507118578468\n",
            "Validation loss = 0.505307799577713\n",
            "Starting epoch 8...\n",
            "Training loss = 0.681325191365821\n",
            "Validation loss = 0.5070998787879943\n",
            "Starting epoch 9...\n",
            "Training loss = 0.6811044226799693\n",
            "Validation loss = 0.5087996363639832\n",
            "Starting epoch 10...\n",
            "Training loss = 0.6815597436257771\n",
            "Validation loss = 0.5010719418525695\n",
            "Starting epoch 11...\n",
            "Training loss = 0.6809159607759544\n",
            "Validation loss = 0.502674686908722\n",
            "Starting epoch 12...\n",
            "Training loss = 0.6806528616164412\n",
            "Validation loss = 0.5041512370109558\n",
            "Starting epoch 13...\n",
            "Training loss = 0.6804145803408963\n",
            "Validation loss = 0.5054995238780975\n",
            "Starting epoch 14...\n",
            "Training loss = 0.6801011466554233\n",
            "Validation loss = 0.5066988706588745\n",
            "Starting epoch 15...\n",
            "Training loss = 0.6801809748368604\n",
            "Validation loss = 0.4986058950424194\n"
          ]
        }
      ],
      "source": [
        "# initialize the NN to have 3 hidden layers\n",
        "four_layer_nn2 = MultilayerPerceptron(4, 3, 3, 1)\n",
        "print(four_layer_nn2)\n",
        "\n",
        "# transfer model to GPU\n",
        "four_layer_nn2.to(device)\n",
        "\n",
        "# define loss function and optimizer (stochastic gradient descent)\n",
        "loss_function = torch.nn.L1Loss()\n",
        "optimizer = torch.optim.SGD(four_layer_nn2.parameters(), lr=0.01)\n",
        "\n",
        "print(\"\\nTraining the four-layer perceptron with MAE loss...\\n\")\n",
        "\n",
        "num_epochs = 15\n",
        "\n",
        "train_losses = []\n",
        "valid_losses = []\n",
        "\n",
        "# loop over epochs\n",
        "for epoch in range(num_epochs):\n",
        "  print(\"Starting epoch \" + str(epoch + 1) + \"...\")\n",
        "  train_loss = 0.0\n",
        "\n",
        "  # training\n",
        "  for features, label in train_iterator:\n",
        "    # transfer to GPU\n",
        "    features = torch.concat(features).to(device)\n",
        "    label = label.to(device)\n",
        "\n",
        "    # model computations\n",
        "\n",
        "    # set gradients to 0 before calculating loss\n",
        "    four_layer_nn2.zero_grad()\n",
        "\n",
        "    # forward pass\n",
        "    output = four_layer_nn2(features.float())\n",
        "\n",
        "    loss = loss_function(output, label.float())\n",
        "\n",
        "    loss.backward()\n",
        "\n",
        "    optimizer.step()\n",
        "\n",
        "    train_loss += loss.item()\n",
        "\n",
        "  print(\"Training loss = \" + str(train_loss/len(train_iterator)))\n",
        "  train_losses.append(train_loss/len(train_iterator))\n",
        "\n",
        "  # validation\n",
        "  with torch.set_grad_enabled(False):\n",
        "    valid_loss = 0.0\n",
        "    for features, label in validation_iterator:\n",
        "      # transfer to GPU\n",
        "      features = torch.concat(features).to(device)\n",
        "      label = label.to(device)\n",
        "\n",
        "      # model computations\n",
        "      output = four_layer_nn2(features.float())\n",
        "      loss = loss_function(output, label.float())\n",
        "\n",
        "      valid_loss += loss.item()\n",
        "\n",
        "    print(\"Validation loss = \" + str(valid_loss/len(validation_iterator)))\n",
        "    valid_losses.append(valid_loss/len(validation_iterator))"
      ]
    },
    {
      "cell_type": "markdown",
      "metadata": {
        "id": "2bJ7lhqa8VzD"
      },
      "source": [
        "**Plot the training-validation curve**"
      ]
    },
    {
      "cell_type": "code",
      "execution_count": 70,
      "metadata": {
        "colab": {
          "base_uri": "https://localhost:8080/",
          "height": 265
        },
        "id": "10dPTPl18Wjk",
        "outputId": "f8c99ee6-aec2-4356-897c-70350a4e585c"
      },
      "outputs": [
        {
          "data": {
            "image/png": "[encoded data removed]",
            "text/plain": [
              "<Figure size 432x288 with 1 Axes>"
            ]
          },
          "metadata": {
            "needs_background": "light"
          },
          "output_type": "display_data"
        }
      ],
      "source": [
        "epochs = list(range(1, num_epochs+1))\n",
        "plt.plot(epochs, train_losses, 'ro', label=\"Training loss\")\n",
        "plt.plot(epochs, valid_losses, 'g*', label=\"Validation loss\")\n",
        "plt.legend()\n",
        "plt.show()"
      ]
    },
    {
      "cell_type": "markdown",
      "metadata": {
        "id": "Kb-9yhx_MWR0"
      },
      "source": [
        "**Testing the model's accuracy**"
      ]
    },
    {
      "cell_type": "code",
      "execution_count": 71,
      "metadata": {
        "colab": {
          "base_uri": "https://localhost:8080/",
          "height": 0
        },
        "id": "P_YQEvKQMXIz",
        "outputId": "55ebf2fc-b6dd-4dd0-c88d-89be5dd03669"
      },
      "outputs": [
        {
          "name": "stdout",
          "output_type": "stream",
          "text": [
            "Accuracy of the model based on 28 test samples: 28.571428571428573\n"
          ]
        }
      ],
      "source": [
        "with torch.set_grad_enabled(False):\n",
        "    accuracy = 0.0\n",
        "    for features, label in test_iterator:\n",
        "      # transfer to GPU\n",
        "      features = torch.concat(features).to(device)\n",
        "      label = label.to(device)\n",
        "\n",
        "      output = four_layer_nn2(features.float())\n",
        "\n",
        "      predicted = torch.round(output)\n",
        "      accuracy += (predicted == label).sum().item()\n",
        "\n",
        "    print(\"Accuracy of the model based on \" + str(len(test_iterator)) + \" test samples: \" + str(100 * accuracy/len(test_iterator)))"
      ]
    },
    {
      "cell_type": "markdown",
      "metadata": {
        "id": "8OGdE1Y2qG16"
      },
      "source": [
        "**Observations**\n",
        "\n",
        "This perceptron performed approximately the same as the first four-layer one. Here, the change in loss function did not make a different, because the main issue was that the network is too complex and did not manage to learn anything from provided input data."
      ]
    },
    {
      "cell_type": "markdown",
      "metadata": {
        "id": "ameZIgo_9TKe"
      },
      "source": [
        "## Five-layer perceptron\n",
        "\n",
        "Input layer -> hidden layer -> hidden layer -> hidden layer -> hidden layer -> output layer"
      ]
    },
    {
      "cell_type": "markdown",
      "metadata": {
        "id": "9U1QklbmBU9C"
      },
      "source": [
        "**Trained with Mean Squared Error loss function:**"
      ]
    },
    {
      "cell_type": "code",
      "execution_count": 72,
      "metadata": {
        "colab": {
          "base_uri": "https://localhost:8080/",
          "height": 0
        },
        "id": "5QvuSDXOY0Wm",
        "outputId": "6dd4af09-e7d0-4d2c-8b28-c9b9527e911a"
      },
      "outputs": [
        {
          "name": "stdout",
          "output_type": "stream",
          "text": [
            "MultilayerPerceptron(\n",
            "  (input_layer): Linear(in_features=4, out_features=3, bias=True)\n",
            "  (hidden_layers): ModuleList(\n",
            "    (0): Linear(in_features=3, out_features=3, bias=True)\n",
            "    (1): Linear(in_features=3, out_features=3, bias=True)\n",
            "    (2): Linear(in_features=3, out_features=3, bias=True)\n",
            "    (3): Linear(in_features=3, out_features=3, bias=True)\n",
            "  )\n",
            "  (output_layer): Linear(in_features=3, out_features=1, bias=True)\n",
            ")\n",
            "\n",
            "Training the five-layer perceptron with MSE loss...\n",
            "\n",
            "Starting epoch 1...\n",
            "Training loss = 0.7710545982595411\n",
            "Validation loss = 0.47420517131686213\n",
            "Starting epoch 2...\n",
            "Training loss = 0.6876925140625028\n",
            "Validation loss = 0.4820632547372952\n",
            "Starting epoch 3...\n",
            "Training loss = 0.6870002369872898\n",
            "Validation loss = 0.4826560513873119\n",
            "Starting epoch 4...\n",
            "Training loss = 0.686823011810426\n",
            "Validation loss = 0.48310286850319245\n",
            "Starting epoch 5...\n",
            "Training loss = 0.6866575004525137\n",
            "Validation loss = 0.4835417335329112\n",
            "Starting epoch 6...\n",
            "Training loss = 0.6864947869375035\n",
            "Validation loss = 0.4839751890685875\n",
            "Starting epoch 7...\n",
            "Training loss = 0.6863346476290774\n",
            "Validation loss = 0.48440346339484674\n",
            "Starting epoch 8...\n",
            "Training loss = 0.6861770417584532\n",
            "Validation loss = 0.4848263919528108\n",
            "Starting epoch 9...\n",
            "Training loss = 0.6860219257783099\n",
            "Validation loss = 0.4852442979288753\n",
            "Starting epoch 10...\n",
            "Training loss = 0.685869258491266\n",
            "Validation loss = 0.48565694977878593\n",
            "Starting epoch 11...\n",
            "Training loss = 0.6857189719777514\n",
            "Validation loss = 0.48606454802793453\n",
            "Starting epoch 12...\n",
            "Training loss = 0.6855710929140904\n",
            "Validation loss = 0.48646703202975916\n",
            "Starting epoch 13...\n",
            "Training loss = 0.6854255161809826\n",
            "Validation loss = 0.48686450302484446\n",
            "Starting epoch 14...\n",
            "Training loss = 0.6852822592310466\n",
            "Validation loss = 0.4872568446182413\n",
            "Starting epoch 15...\n",
            "Training loss = 0.6851412747385959\n",
            "Validation loss = 0.4876441593893105\n"
          ]
        }
      ],
      "source": [
        "# initialize the NN to have 4 hidden layers\n",
        "five_layer_nn1 = MultilayerPerceptron(4, 4, 3, 1)\n",
        "print(five_layer_nn1)\n",
        "\n",
        "# transfer model to GPU\n",
        "five_layer_nn1.to(device)\n",
        "\n",
        "# define loss function and optimizer (stochastic gradient descent)\n",
        "loss_function = torch.nn.MSELoss()\n",
        "optimizer = torch.optim.SGD(five_layer_nn1.parameters(), lr=0.01)\n",
        "\n",
        "print(\"\\nTraining the five-layer perceptron with MSE loss...\\n\")\n",
        "\n",
        "num_epochs = 15\n",
        "\n",
        "train_losses = []\n",
        "valid_losses = []\n",
        "\n",
        "# loop over epochs\n",
        "for epoch in range(num_epochs):\n",
        "  print(\"Starting epoch \" + str(epoch + 1) + \"...\")\n",
        "  train_loss = 0.0\n",
        "\n",
        "  # training\n",
        "  for features, label in train_iterator:\n",
        "    # transfer to GPU\n",
        "    features = torch.concat(features).to(device)\n",
        "    label = label.to(device)\n",
        "\n",
        "    # model computations\n",
        "\n",
        "    # set gradients to 0 before calculating loss\n",
        "    five_layer_nn1.zero_grad()\n",
        "\n",
        "    # forward pass\n",
        "    output = five_layer_nn1(features.float())\n",
        "\n",
        "    loss = loss_function(output, label.float())\n",
        "\n",
        "    loss.backward()\n",
        "\n",
        "    optimizer.step()\n",
        "\n",
        "    train_loss += loss.item()\n",
        "\n",
        "  print(\"Training loss = \" + str(train_loss/len(train_iterator)))\n",
        "  train_losses.append(train_loss/len(train_iterator))\n",
        "\n",
        "  # validation\n",
        "  with torch.set_grad_enabled(False):\n",
        "    valid_loss = 0.0\n",
        "    for features, label in validation_iterator:\n",
        "      # transfer to GPU\n",
        "      features = torch.concat(features).to(device)\n",
        "      label = label.to(device)\n",
        "\n",
        "      # model computations\n",
        "      output = five_layer_nn1(features.float())\n",
        "      loss = loss_function(output, label.float())\n",
        "\n",
        "      valid_loss += loss.item()\n",
        "\n",
        "    print(\"Validation loss = \" + str(valid_loss/len(validation_iterator)))\n",
        "    valid_losses.append(valid_loss/len(validation_iterator))"
      ]
    },
    {
      "cell_type": "markdown",
      "metadata": {
        "id": "dq3h5Jba8Yo9"
      },
      "source": [
        "**Plot the training-validation curve**"
      ]
    },
    {
      "cell_type": "code",
      "execution_count": 73,
      "metadata": {
        "colab": {
          "base_uri": "https://localhost:8080/",
          "height": 265
        },
        "id": "i07bBxSF8ZWc",
        "outputId": "09430850-28de-4cd7-b76a-2b029f6e9175"
      },
      "outputs": [
        {
          "data": {
            "image/png": "[encoded data removed]",
            "text/plain": [
              "<Figure size 432x288 with 1 Axes>"
            ]
          },
          "metadata": {
            "needs_background": "light"
          },
          "output_type": "display_data"
        }
      ],
      "source": [
        "epochs = list(range(1, num_epochs+1))\n",
        "plt.plot(epochs, train_losses, 'ro', label=\"Training loss\")\n",
        "plt.plot(epochs, valid_losses, 'g*', label=\"Validation loss\")\n",
        "plt.legend()\n",
        "plt.show()"
      ]
    },
    {
      "cell_type": "markdown",
      "metadata": {
        "id": "ECWE6oMsMZAV"
      },
      "source": [
        "**Testing the model's accuracy**"
      ]
    },
    {
      "cell_type": "code",
      "execution_count": 74,
      "metadata": {
        "colab": {
          "base_uri": "https://localhost:8080/",
          "height": 0
        },
        "id": "luuswmJdMZio",
        "outputId": "aed61bb4-5ac1-4014-8ea3-0c832d11fdba"
      },
      "outputs": [
        {
          "name": "stdout",
          "output_type": "stream",
          "text": [
            "Accuracy of the model based on 28 test samples: 28.571428571428573\n"
          ]
        }
      ],
      "source": [
        "with torch.set_grad_enabled(False):\n",
        "    accuracy = 0.0\n",
        "    for features, label in test_iterator:\n",
        "      # transfer to GPU\n",
        "      features = torch.concat(features).to(device)\n",
        "      label = label.to(device)\n",
        "\n",
        "      output = five_layer_nn1(features.float())\n",
        "\n",
        "      predicted = torch.round(output)\n",
        "      accuracy += (predicted == label).sum().item()\n",
        "\n",
        "    print(\"Accuracy of the model based on \" + str(len(test_iterator)) + \" test samples: \" + str(100 * accuracy/len(test_iterator)))"
      ]
    },
    {
      "cell_type": "markdown",
      "metadata": {
        "id": "OLaeGvStBk_W"
      },
      "source": [
        "**Trained with Mean Absolute Error loss function:**"
      ]
    },
    {
      "cell_type": "code",
      "execution_count": 75,
      "metadata": {
        "colab": {
          "base_uri": "https://localhost:8080/",
          "height": 0
        },
        "id": "OwIItla62B2O",
        "outputId": "4a5de4c9-b5e3-460e-d46f-a61da5238cdc"
      },
      "outputs": [
        {
          "name": "stdout",
          "output_type": "stream",
          "text": [
            "MultilayerPerceptron(\n",
            "  (input_layer): Linear(in_features=4, out_features=3, bias=True)\n",
            "  (hidden_layers): ModuleList(\n",
            "    (0): Linear(in_features=3, out_features=3, bias=True)\n",
            "    (1): Linear(in_features=3, out_features=3, bias=True)\n",
            "    (2): Linear(in_features=3, out_features=3, bias=True)\n",
            "    (3): Linear(in_features=3, out_features=3, bias=True)\n",
            "  )\n",
            "  (output_layer): Linear(in_features=3, out_features=1, bias=True)\n",
            ")\n",
            "\n",
            "Training the five-layer perceptron with MAE loss...\n",
            "\n",
            "Starting epoch 1...\n",
            "Training loss = 1.0450096257929025\n",
            "Validation loss = 0.6383118271827698\n",
            "Starting epoch 2...\n",
            "Training loss = 0.8598983311759574\n",
            "Validation loss = 0.5503119230270386\n",
            "Starting epoch 3...\n",
            "Training loss = 0.7028342229979379\n",
            "Validation loss = 0.5023119688034058\n",
            "Starting epoch 4...\n",
            "Training loss = 0.6746428523744855\n",
            "Validation loss = 0.5023119688034058\n",
            "Starting epoch 5...\n",
            "Training loss = 0.6746428523744855\n",
            "Validation loss = 0.5023119688034058\n",
            "Starting epoch 6...\n",
            "Training loss = 0.6746428523744855\n",
            "Validation loss = 0.5023119688034058\n",
            "Starting epoch 7...\n",
            "Training loss = 0.6746428523744855\n",
            "Validation loss = 0.5023119688034058\n",
            "Starting epoch 8...\n",
            "Training loss = 0.6746428523744855\n",
            "Validation loss = 0.5023119688034058\n",
            "Starting epoch 9...\n",
            "Training loss = 0.6746428523744855\n",
            "Validation loss = 0.5023119688034058\n",
            "Starting epoch 10...\n",
            "Training loss = 0.6746428523744855\n",
            "Validation loss = 0.5023119688034058\n",
            "Starting epoch 11...\n",
            "Training loss = 0.6746428523744855\n",
            "Validation loss = 0.5023119688034058\n",
            "Starting epoch 12...\n",
            "Training loss = 0.6746428523744855\n",
            "Validation loss = 0.5023119688034058\n",
            "Starting epoch 13...\n",
            "Training loss = 0.6746428523744855\n",
            "Validation loss = 0.5023119688034058\n",
            "Starting epoch 14...\n",
            "Training loss = 0.6746428523744855\n",
            "Validation loss = 0.5023119688034058\n",
            "Starting epoch 15...\n",
            "Training loss = 0.6746428523744855\n",
            "Validation loss = 0.5023119688034058\n"
          ]
        }
      ],
      "source": [
        "# initialize the NN to have 4 hidden layers\n",
        "five_layer_nn2 = MultilayerPerceptron(4, 4, 3, 1)\n",
        "print(five_layer_nn2)\n",
        "\n",
        "# transfer model to GPU\n",
        "five_layer_nn2.to(device)\n",
        "\n",
        "# define loss function and optimizer (stochastic gradient descent)\n",
        "loss_function = torch.nn.L1Loss()\n",
        "optimizer = torch.optim.SGD(five_layer_nn2.parameters(), lr=0.01)\n",
        "\n",
        "print(\"\\nTraining the five-layer perceptron with MAE loss...\\n\")\n",
        "\n",
        "num_epochs = 15\n",
        "\n",
        "train_losses = []\n",
        "valid_losses = []\n",
        "\n",
        "# loop over epochs\n",
        "for epoch in range(num_epochs):\n",
        "  print(\"Starting epoch \" + str(epoch + 1) + \"...\")\n",
        "  train_loss = 0.0\n",
        "\n",
        "  # training\n",
        "  for features, label in train_iterator:\n",
        "    # transfer to GPU\n",
        "    features = torch.concat(features).to(device)\n",
        "    label = label.to(device)\n",
        "\n",
        "    # model computations\n",
        "\n",
        "    # set gradients to 0 before calculating loss\n",
        "    five_layer_nn2.zero_grad()\n",
        "\n",
        "    # forward pass\n",
        "    output = five_layer_nn2(features.float())\n",
        "\n",
        "    loss = loss_function(output, label.float())\n",
        "\n",
        "    loss.backward()\n",
        "\n",
        "    optimizer.step()\n",
        "\n",
        "    train_loss += loss.item()\n",
        "\n",
        "  print(\"Training loss = \" + str(train_loss/len(train_iterator)))\n",
        "  train_losses.append(train_loss/len(train_iterator))\n",
        "\n",
        "  # validation\n",
        "  with torch.set_grad_enabled(False):\n",
        "    valid_loss = 0.0\n",
        "    for features, label in validation_iterator:\n",
        "      # transfer to GPU\n",
        "      features = torch.concat(features).to(device)\n",
        "      label = label.to(device)\n",
        "\n",
        "      # model computations\n",
        "      output = five_layer_nn2(features.float())\n",
        "      loss = loss_function(output, label.float())\n",
        "\n",
        "      valid_loss += loss.item()\n",
        "\n",
        "    print(\"Validation loss = \" + str(valid_loss/len(validation_iterator)))\n",
        "    valid_losses.append(valid_loss/len(validation_iterator))"
      ]
    },
    {
      "cell_type": "markdown",
      "metadata": {
        "id": "HnoG3kaF8bqS"
      },
      "source": [
        "**Plot the training-validation curve**"
      ]
    },
    {
      "cell_type": "code",
      "execution_count": 76,
      "metadata": {
        "colab": {
          "base_uri": "https://localhost:8080/",
          "height": 265
        },
        "id": "c_WL8bYV8cRK",
        "outputId": "48a8c48a-2b13-459e-ffab-76c582f21d19"
      },
      "outputs": [
        {
          "data": {
            "image/png": "[encoded data removed]",
            "text/plain": [
              "<Figure size 432x288 with 1 Axes>"
            ]
          },
          "metadata": {
            "needs_background": "light"
          },
          "output_type": "display_data"
        }
      ],
      "source": [
        "epochs = list(range(1, num_epochs+1))\n",
        "plt.plot(epochs, train_losses, 'ro', label=\"Training loss\")\n",
        "plt.plot(epochs, valid_losses, 'g*', label=\"Validation loss\")\n",
        "plt.legend()\n",
        "plt.show()"
      ]
    },
    {
      "cell_type": "markdown",
      "metadata": {
        "id": "w1fUO4orMb3A"
      },
      "source": [
        "**Testing the model's accuracy**"
      ]
    },
    {
      "cell_type": "code",
      "execution_count": 77,
      "metadata": {
        "colab": {
          "base_uri": "https://localhost:8080/",
          "height": 0
        },
        "id": "V1BVnHnxMcj_",
        "outputId": "b68ab641-374b-4739-c2a7-4bbad19f6ab2"
      },
      "outputs": [
        {
          "name": "stdout",
          "output_type": "stream",
          "text": [
            "Accuracy of the model based on 28 test samples: 28.571428571428573\n"
          ]
        }
      ],
      "source": [
        "with torch.set_grad_enabled(False):\n",
        "    accuracy = 0.0\n",
        "    for features, label in test_iterator:\n",
        "      # transfer to GPU\n",
        "      features = torch.concat(features).to(device)\n",
        "      label = label.to(device)\n",
        "\n",
        "      output = five_layer_nn2(features.float())\n",
        "\n",
        "      predicted = torch.round(output)\n",
        "      accuracy += (predicted == label).sum().item()\n",
        "\n",
        "    print(\"Accuracy of the model based on \" + str(len(test_iterator)) + \" test samples: \" + str(100 * accuracy/len(test_iterator)))"
      ]
    },
    {
      "cell_type": "markdown",
      "metadata": {
        "id": "gbCNzmhuq44o"
      },
      "source": [
        "**Observations**\n",
        "\n",
        "Same as in four-layer perceptrons."
      ]
    },
    {
      "cell_type": "markdown",
      "metadata": {
        "id": "8_Y-mi6Prk39"
      },
      "source": [
        "# Final conclusions\n",
        "\n",
        "We have tested neural networks with different numbers of hidden layers in them. In general, it seems that the smaller nets perform better in this particular task.\n",
        "\n",
        "Validation during training allows us to see how well the network generalizes the problem - so how it performs on new samples which were not analyzed by the model before. It seems that smaller nets (with 1 or 2 hidden layers) have managed to generalize well.\n",
        "\n",
        "On the other hand, larger nets did not seem to grasp the problem effectively. The networks with more than 4 layers (so more than 3 hidden layers) predict the same value for all samples and thus their accuracies are very low (unless the test data is not balanced and happens to have majority of samples belonging to the class which is the closest to the model's assumed prediction value).\n",
        "\n",
        "**Effects of the number of perceptron layers on final metrics depend on the problem complexity.** In our case, the provided data was really incomplex - there were only 4 input features and 112 training samples, so there was no space for the large models to deeply study the data. **Networks with more layers were too complex for this incomplex task.** However, if we had a very complex dataset with lots of intricate details and differences - a deeper network given more time to train would probably accomplish very satisfactory results."
      ]
    }
  ],
  "metadata": {
    "accelerator": "GPU",
    "colab": {
      "collapsed_sections": [],
      "name": "EARIN_task5.ipynb",
      "provenance": []
    },
    "kernelspec": {
      "display_name": "Python 3",
      "name": "python3"
    },
    "language_info": {
      "name": "python"
    }
  },
  "nbformat": 4,
  "nbformat_minor": 0
}
